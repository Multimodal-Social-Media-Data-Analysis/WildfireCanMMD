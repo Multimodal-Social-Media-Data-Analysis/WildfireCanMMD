{
 "cells": [
  {
   "cell_type": "code",
   "execution_count": null,
   "metadata": {
    "colab": {
     "base_uri": "https://localhost:8080/"
    },
    "executionInfo": {
     "elapsed": 17229,
     "status": "ok",
     "timestamp": 1728010241250,
     "user": {
      "displayName": "multimedia research",
      "userId": "00317422700387342345"
     },
     "user_tz": 240
    },
    "id": "90riV4CMUq9U",
    "outputId": "3ebf3594-5971-4066-d447-c7c3d2812a59"
   },
   "outputs": [],
   "source": [
    "from google.colab import drive\n",
    "drive.mount('/content/drive')"
   ]
  },
  {
   "cell_type": "code",
   "execution_count": null,
   "metadata": {
    "id": "dKrvQUAdgglX"
   },
   "outputs": [],
   "source": [
    "!pip install easyocr"
   ]
  },
  {
   "cell_type": "markdown",
   "metadata": {
    "id": "xVlk3dQPRJAR"
   },
   "source": [
    "# Test EasyOCR"
   ]
  },
  {
   "cell_type": "code",
   "execution_count": null,
   "metadata": {
    "id": "kEK6QBUhUWIe"
   },
   "outputs": [],
   "source": [
    "from transformers import TrOCRProcessor, VisionEncoderDecoderModel\n",
    "from PIL import Image\n",
    "import pandas as pd\n",
    "import matplotlib.pyplot as plt\n",
    "import matplotlib.image as mpimg\n",
    "import easyocr"
   ]
  },
  {
   "cell_type": "code",
   "execution_count": null,
   "metadata": {
    "id": "UxDAOvZLUdH9"
   },
   "outputs": [],
   "source": [
    "RANDOM_STATE = 8\n",
    "# load dataset\n",
    "dataset_path = '/content/drive/My Drive/multimodal_classifier/data/WildFireCan-MMD.csv'\n",
    "dataset = pd.read_csv(dataset_path)\n",
    "\n",
    "# drop uneeded columns\n",
    "columns_to_drop2 = ['tweet_id', 'img_id', 'posted_at', 'author_id', 'author_loc', 'author_name', 'author_usrname', 'media_keys', 'urls', 'predicted_label', 'contains_personal_info']\n",
    "dataset = dataset.drop(columns=columns_to_drop2)\n",
    "\n",
    "# fix image paths\n",
    "dataset['image'] = dataset['image'].apply(lambda x: x.split('\\\\')[7])\n",
    "base_path2 = '/content/drive/My Drive/multimodal_classifier/data/images/'\n",
    "dataset['image'] = dataset['image'].apply(lambda x: base_path2 + x)\n",
    "\n",
    "# shuffle data\n",
    "dataset = dataset.sample(frac=1, random_state=RANDOM_STATE).reset_index(drop=True)"
   ]
  },
  {
   "cell_type": "code",
   "execution_count": null,
   "metadata": {
    "id": "VN8p-9_T0loF"
   },
   "outputs": [],
   "source": [
    "k = 3\n",
    "pth = dataset['image'][k]\n",
    "txt = dataset['text'][k]"
   ]
  },
  {
   "cell_type": "code",
   "execution_count": null,
   "metadata": {
    "colab": {
     "base_uri": "https://localhost:8080/",
     "height": 406
    },
    "executionInfo": {
     "elapsed": 2149,
     "status": "ok",
     "timestamp": 1725981547137,
     "user": {
      "displayName": "multimedia research",
      "userId": "00317422700387342345"
     },
     "user_tz": 240
    },
    "id": "tuU7oi2dUx0j",
    "outputId": "32c4a33a-713f-45a8-f942-f9a7ef42b044"
   },
   "outputs": [],
   "source": [
    "image = Image.open(pth).convert(\"RGB\")\n",
    "\n",
    "# Plot the image\n",
    "plt.imshow(image)\n",
    "plt.axis('off')  # Hide the axes\n",
    "plt.show()"
   ]
  },
  {
   "cell_type": "code",
   "execution_count": null,
   "metadata": {
    "colab": {
     "base_uri": "https://localhost:8080/"
    },
    "executionInfo": {
     "elapsed": 9009,
     "status": "ok",
     "timestamp": 1725981559106,
     "user": {
      "displayName": "multimedia research",
      "userId": "00317422700387342345"
     },
     "user_tz": 240
    },
    "id": "yNV0V1YlgcXL",
    "outputId": "d0cc4e17-afff-4348-b8a0-991e39b7af80"
   },
   "outputs": [],
   "source": [
    "reader = easyocr.Reader(['en']) # this needs to run only once to load the model into memory"
   ]
  },
  {
   "cell_type": "code",
   "execution_count": null,
   "metadata": {
    "id": "WWrNPBuS0vRa"
   },
   "outputs": [],
   "source": [
    "result = reader.readtext(pth)"
   ]
  },
  {
   "cell_type": "code",
   "execution_count": null,
   "metadata": {
    "id": "P3EBUXDk1EXi"
   },
   "outputs": [],
   "source": [
    "str1 = ''\n",
    "for i in range(len(result)):\n",
    "  #print(result[i][1])\n",
    "  tmp = result[i][1]\n",
    "  str1 = str1 + ' ' + tmp"
   ]
  },
  {
   "cell_type": "code",
   "execution_count": null,
   "metadata": {
    "colab": {
     "base_uri": "https://localhost:8080/"
    },
    "executionInfo": {
     "elapsed": 861,
     "status": "ok",
     "timestamp": 1725981572644,
     "user": {
      "displayName": "multimedia research",
      "userId": "00317422700387342345"
     },
     "user_tz": 240
    },
    "id": "f7gGkdim1onV",
    "outputId": "2b305d35-1e21-4141-812d-b164501c08be"
   },
   "outputs": [],
   "source": [
    "print(str1)\n",
    "#print(txt)"
   ]
  },
  {
   "cell_type": "code",
   "execution_count": null,
   "metadata": {
    "colab": {
     "base_uri": "https://localhost:8080/"
    },
    "executionInfo": {
     "elapsed": 465,
     "status": "ok",
     "timestamp": 1725981578494,
     "user": {
      "displayName": "multimedia research",
      "userId": "00317422700387342345"
     },
     "user_tz": 240
    },
    "id": "0KVCvmgP25AA",
    "outputId": "4df3782e-5c95-448a-c943-ae1a044a6815"
   },
   "outputs": [],
   "source": [
    "print(len(str1))"
   ]
  },
  {
   "cell_type": "markdown",
   "metadata": {
    "id": "CRrvEy8hRLVs"
   },
   "source": [
    "# 3-head Classifier"
   ]
  },
  {
   "cell_type": "code",
   "execution_count": null,
   "metadata": {
    "executionInfo": {
     "elapsed": 47271,
     "status": "ok",
     "timestamp": 1728010291001,
     "user": {
      "displayName": "multimedia research",
      "userId": "00317422700387342345"
     },
     "user_tz": 240
    },
    "id": "PMoFykyhRN7I"
   },
   "outputs": [],
   "source": [
    "import torch\n",
    "import torch.nn as nn\n",
    "from torchvision import models, transforms\n",
    "from torch.utils.data import Dataset, DataLoader\n",
    "import pandas as pd\n",
    "import os\n",
    "from PIL import Image\n",
    "from tqdm import tqdm\n",
    "import re\n",
    "import matplotlib.pyplot as plt\n",
    "import textwrap\n",
    "from sklearn.metrics import classification_report\n",
    "from sklearn.metrics import confusion_matrix, ConfusionMatrixDisplay\n",
    "from sklearn.model_selection import train_test_split\n",
    "from sklearn.preprocessing import LabelEncoder\n",
    "import warnings\n",
    "warnings.filterwarnings(\"ignore\", category=UserWarning, message=\"Palette\")        #ignore 'palette images expressed in bytes' warning\n",
    "warnings.filterwarnings(\"ignore\", category=RuntimeWarning, message=\"os.fork()\")   #ignore os.fork() multithreading warning\n",
    "warnings.filterwarnings(\"ignore\", category=UserWarning, message=\"Glyph\")          #ignore warning about emojies missing from font for displaying predictions\n",
    "\n",
    "from transformers import AdamW\n",
    "from transformers import AutoImageProcessor, ViTModel\n",
    "from transformers import RobertaTokenizer, RobertaModel\n",
    "\n",
    "#import easyocr\n",
    "import numpy as np\n",
    "import torch.nn.functional as F\n",
    "\n",
    "pd.set_option('display.max_colwidth', None)  # No truncation of text"
   ]
  },
  {
   "cell_type": "code",
   "execution_count": null,
   "metadata": {
    "id": "oVpooZBZRVOY"
   },
   "outputs": [],
   "source": [
    "class MultimodalDataset(Dataset):\n",
    "    def __init__(self, text_encodings, easyocr_encodings, image_paths, labels, image_processor):\n",
    "        self.text_encodings = text_encodings\n",
    "        self.easyocr_encodings = easyocr_encodings\n",
    "        self.image_paths = image_paths\n",
    "        self.labels = labels\n",
    "        self.image_processor = image_processor\n",
    "\n",
    "    def __getitem__(self, idx):\n",
    "        item = {key: val[idx] for key, val in self.text_encodings.items()}\n",
    "        easyocr_item = {key: val[idx] for key, val in self.easyocr_encodings.items()}\n",
    "        item.update({'easyocr_' + key: val for key, val in easyocr_item.items()})\n",
    "        image = Image.open(self.image_paths[idx]).convert(\"RGB\")\n",
    "        image = self.image_processor(image, return_tensors=\"pt\")['pixel_values'].squeeze(0)\n",
    "        item['image'] = image\n",
    "        item['label'] = torch.tensor(self.labels[idx], dtype=torch.long)\n",
    "        return item\n",
    "\n",
    "    def __len__(self):\n",
    "        return len(self.labels)\n",
    "\n",
    "class MultimodalModel(nn.Module):\n",
    "    def __init__(self, num_labels):\n",
    "        super(MultimodalModel, self).__init__()\n",
    "        self.text_model = RobertaModel.from_pretrained('roberta-base')\n",
    "        self.ocr_text_model = RobertaModel.from_pretrained('roberta-base')\n",
    "        self.image_model = ViTModel.from_pretrained(IMAGE_MODEL)\n",
    "        self.fc = nn.Linear(self.text_model.config.hidden_size + self.ocr_text_model.config.hidden_size + self.image_model.config.hidden_size, num_labels)\n",
    "\n",
    "    def forward(self, input_ids, attention_mask, ocr_input_ids, ocr_attention_mask, images):\n",
    "        # Original text\n",
    "        text_outputs = self.text_model(input_ids, attention_mask=attention_mask)\n",
    "        text_features = text_outputs.last_hidden_state[:, 0, :]  # Take the [CLS] token\n",
    "        # OCR text\n",
    "        ocr_text_outputs = self.ocr_text_model(ocr_input_ids, attention_mask=ocr_attention_mask)\n",
    "        ocr_text_features = ocr_text_outputs.last_hidden_state[:, 0, :]  # Take the [CLS] token\n",
    "        # Image\n",
    "        image_features = self.image_model(pixel_values=images).last_hidden_state[:, 0, :]\n",
    "        # Concatenate all features\n",
    "        combined_features = torch.cat((text_features, ocr_text_features, image_features), dim=1)\n",
    "        logits = self.fc(combined_features)\n",
    "        return logits\n",
    "\n",
    "def train(model, dataloader, optimizer, device, criterion):\n",
    "    model.train()\n",
    "    total_loss = 0\n",
    "    correct = 0\n",
    "    total = 0\n",
    "    for batch in tqdm(dataloader):\n",
    "        optimizer.zero_grad()\n",
    "        input_ids = batch['input_ids'].squeeze().to(device)\n",
    "        attention_mask = batch['attention_mask'].squeeze().to(device)\n",
    "        ocr_input_ids = batch['easyocr_input_ids'].squeeze().to(device)\n",
    "        ocr_attention_mask = batch['easyocr_attention_mask'].squeeze().to(device)\n",
    "        images = batch['image'].to(device)\n",
    "        labels = batch['label'].to(device)\n",
    "\n",
    "        final_logits = model(input_ids, attention_mask, ocr_input_ids, ocr_attention_mask, images)\n",
    "        final_loss = criterion(final_logits, labels)\n",
    "        total_loss += final_loss.item()\n",
    "        final_loss.backward(retain_graph=True)\n",
    "        optimizer.step()\n",
    "\n",
    "        preds = final_logits.argmax(dim=1)\n",
    "        correct += (preds == labels).sum().item()\n",
    "        total += labels.size(0)\n",
    "\n",
    "    accuracy = correct / total\n",
    "    return total_loss / len(dataloader), accuracy\n",
    "\n",
    "def evaluate(model, dataloader, device, criterion):\n",
    "    model.eval()\n",
    "    total_loss = 0\n",
    "    correct = 0\n",
    "    total = 0\n",
    "    all_predictions = []\n",
    "    all_targets = []\n",
    "\n",
    "    with torch.no_grad():\n",
    "        for batch in tqdm(dataloader):\n",
    "            input_ids = batch['input_ids'].squeeze().to(device)\n",
    "            attention_mask = batch['attention_mask'].squeeze().to(device)\n",
    "            ocr_input_ids = batch['easyocr_input_ids'].squeeze().to(device)\n",
    "            ocr_attention_mask = batch['easyocr_attention_mask'].squeeze().to(device)\n",
    "            images = batch['image'].to(device)\n",
    "            labels = batch['label'].to(device)\n",
    "            final_logits = model(input_ids, attention_mask, ocr_input_ids, ocr_attention_mask, images)\n",
    "            loss = criterion(final_logits, labels)\n",
    "            total_loss += loss.item()\n",
    "\n",
    "            preds = final_logits.argmax(dim=1)\n",
    "            correct += (preds == labels).sum().item()\n",
    "            total += labels.size(0)\n",
    "\n",
    "            all_predictions.extend(preds.cpu().numpy())\n",
    "            all_targets.extend(labels.cpu().numpy())\n",
    "\n",
    "    accuracy = correct / total\n",
    "    avg_loss = total_loss / len(dataloader)\n",
    "    report = classification_report(all_targets, all_predictions, target_names=label_encoder.classes_, digits=4)\n",
    "    print(report)\n",
    "    return all_targets, all_predictions, avg_loss, accuracy"
   ]
  },
  {
   "cell_type": "markdown",
   "metadata": {
    "id": "OeCeb9y-Rs93"
   },
   "source": [
    "# Scrape text from images and save"
   ]
  },
  {
   "cell_type": "code",
   "execution_count": null,
   "metadata": {
    "id": "sL3DKzXBRk0R"
   },
   "outputs": [],
   "source": [
    "# Load dataset - bc_ab\n",
    "dataset_path = '/content/drive/My Drive/multimodal_classifier/data/WildFireCan-MMD.csv'\n",
    "dataset = pd.read_csv(dataset_path)\n",
    "\n",
    "# drop uneeded columns\n",
    "columns_to_drop2 = ['tweet_id', 'img_id', 'posted_at', 'author_id', 'author_loc', 'author_name', 'author_usrname', 'media_keys', 'urls', 'predicted_label', 'contains_personal_info']\n",
    "dataset = dataset.drop(columns=columns_to_drop2)\n",
    "\n",
    "# fix image paths\n",
    "dataset['image'] = dataset['image'].apply(lambda x: x.split('\\\\')[7])\n",
    "base_path2 = '/content/drive/My Drive/multimodal_classifier/data/images/'\n",
    "dataset['image'] = dataset['image'].apply(lambda x: base_path2 + x)\n",
    "\n",
    "# Encode labels\n",
    "label_encoder = LabelEncoder()\n",
    "dataset['label_encoded'] = label_encoder.fit_transform(dataset['label'])\n",
    "\n",
    "# Initialize new column in the DataFrame\n",
    "dataset['extracted_text'] = None"
   ]
  },
  {
   "cell_type": "code",
   "execution_count": null,
   "metadata": {
    "colab": {
     "base_uri": "https://localhost:8080/"
    },
    "executionInfo": {
     "elapsed": 1084359,
     "status": "ok",
     "timestamp": 1725982676345,
     "user": {
      "displayName": "multimedia research",
      "userId": "00317422700387342345"
     },
     "user_tz": 240
    },
    "id": "TP7xYzyqRziz",
    "outputId": "50f489d6-3305-44c5-ff18-34f03a30d664"
   },
   "outputs": [],
   "source": [
    "# Initialize EasyOCR reader\n",
    "ocr_reader = easyocr.Reader(['en'])\n",
    "\n",
    "# Extract text from images using EasyOCR\n",
    "def extract_text(image_path):\n",
    "    image = Image.open(image_path).convert(\"RGB\")\n",
    "    image_np = np.array(image)\n",
    "    ocr_result = ocr_reader.readtext(image_np)\n",
    "    ocr_text = ' '.join([text[1] for text in ocr_result])\n",
    "    return ocr_text\n",
    "\n",
    "# Apply OCR and save extracted text with tqdm progress bar\n",
    "print(\"Starting text extraction...\")\n",
    "\n",
    "total_images = len(dataset)\n",
    "\n",
    "for idx, image_path in tqdm(enumerate(dataset['image']), total=total_images, desc=\"Processing images\"):\n",
    "    extracted_text = extract_text(image_path)\n",
    "    dataset.at[idx, 'extracted_text'] = extracted_text\n",
    "\n",
    "print(\"Text extraction completed.\")"
   ]
  },
  {
   "cell_type": "code",
   "execution_count": null,
   "metadata": {
    "id": "dpcHCdb3R1S0"
   },
   "outputs": [],
   "source": [
    "dataset.to_json('/content/drive/My Drive/multimodal_classifier/data/extracted.json')"
   ]
  },
  {
   "cell_type": "code",
   "execution_count": null,
   "metadata": {
    "id": "_6zPtnbMleSW"
   },
   "outputs": [],
   "source": [
    "dataset['extracted_text']"
   ]
  },
  {
   "cell_type": "markdown",
   "metadata": {
    "id": "pG1mC-MnR84F"
   },
   "source": [
    "# Check that scrape was successful"
   ]
  },
  {
   "cell_type": "code",
   "execution_count": null,
   "metadata": {
    "id": "tjAKr_2iR_bL"
   },
   "outputs": [],
   "source": [
    "kfgh = pd.read_json('/content/drive/My Drive/multimodal_classifier/data/extracted.json')"
   ]
  },
  {
   "cell_type": "code",
   "execution_count": null,
   "metadata": {
    "colab": {
     "base_uri": "https://localhost:8080/",
     "height": 36
    },
    "executionInfo": {
     "elapsed": 684,
     "status": "ok",
     "timestamp": 1725982736628,
     "user": {
      "displayName": "multimedia research",
      "userId": "00317422700387342345"
     },
     "user_tz": 240
    },
    "id": "ezY9aGfzSBLu",
    "outputId": "ae02e07a-b872-476f-ccde-de898da80b50"
   },
   "outputs": [],
   "source": [
    "kfgh['extracted_text'][0]"
   ]
  },
  {
   "cell_type": "code",
   "execution_count": null,
   "metadata": {
    "colab": {
     "base_uri": "https://localhost:8080/",
     "height": 406
    },
    "executionInfo": {
     "elapsed": 2625,
     "status": "ok",
     "timestamp": 1725982742600,
     "user": {
      "displayName": "multimedia research",
      "userId": "00317422700387342345"
     },
     "user_tz": 240
    },
    "id": "jMf7fkQ6SCsU",
    "outputId": "c295a6d9-189f-461a-b142-9e786c3dc52e"
   },
   "outputs": [],
   "source": [
    "import matplotlib.image as mpimg\n",
    "\n",
    "img = mpimg.imread(kfgh['image'][0])\n",
    "plt.imshow(img)\n",
    "plt.axis('off')\n",
    "plt.show()"
   ]
  },
  {
   "cell_type": "code",
   "execution_count": null,
   "metadata": {
    "colab": {
     "base_uri": "https://localhost:8080/"
    },
    "executionInfo": {
     "elapsed": 360,
     "status": "ok",
     "timestamp": 1725982760261,
     "user": {
      "displayName": "multimedia research",
      "userId": "00317422700387342345"
     },
     "user_tz": 240
    },
    "id": "86QfKwm2MJND",
    "outputId": "78fc4a42-eb94-40cc-bbd5-9434f98d9c87"
   },
   "outputs": [],
   "source": [
    "# count num of samples with extracted text\n",
    "ctr = 0\n",
    "for i, row in kfgh.iterrows():\n",
    "  msg = row['extracted_text']\n",
    "  if msg == '' or None:\n",
    "    ctr += 1\n",
    "print(ctr, '/', len(dataset))"
   ]
  },
  {
   "cell_type": "code",
   "execution_count": null,
   "metadata": {
    "colab": {
     "base_uri": "https://localhost:8080/",
     "height": 542
    },
    "executionInfo": {
     "elapsed": 553,
     "status": "ok",
     "timestamp": 1725982768217,
     "user": {
      "displayName": "multimedia research",
      "userId": "00317422700387342345"
     },
     "user_tz": 240
    },
    "id": "xIslv4o2MOed",
    "outputId": "ea008426-0924-4a0f-b891-d831085488b0"
   },
   "outputs": [],
   "source": [
    "# Step 1: Count the number of characters in each row of the 'extracted_text' column\n",
    "char_counts = kfgh['extracted_text'].apply(lambda x: len(x.split())).tolist() #kfgh['extracted_text'].apply(len).tolist()\n",
    "\n",
    "# Step 2: Calculate the average number of characters per row\n",
    "average_chars = sum(char_counts) / len(char_counts)\n",
    "\n",
    "# Step 3: Determine the maximum and minimum number of characters\n",
    "max_chars = max(char_counts)\n",
    "min_chars = min(char_counts)\n",
    "\n",
    "# Store the results in a variable or list\n",
    "results = {\n",
    "    'average_chars': average_chars,\n",
    "    'max_chars': max_chars,\n",
    "    'min_chars': min_chars\n",
    "}\n",
    "\n",
    "# Step 4: Plot the distribution of the character counts\n",
    "plt.figure(figsize=(10, 6))\n",
    "counts, bins, patches = plt.hist(char_counts, bins=20, color='skyblue', edgecolor='black')\n",
    "\n",
    "# Add counts above each bar\n",
    "for count, bin_edge in zip(counts, bins):\n",
    "    plt.text(bin_edge + (bins[1] - bins[0]) / 2, count, int(count), ha='center', va='bottom')\n",
    "\n",
    "# Add the average, max, and min lines\n",
    "plt.axvline(average_chars, color='red', linestyle='dashed', linewidth=1, label=f'Average: {average_chars:.2f}')\n",
    "plt.axvline(max_chars, color='green', linestyle='dashed', linewidth=1, label=f'Max: {max_chars}')\n",
    "plt.axvline(min_chars, color='orange', linestyle='dashed', linewidth=1, label=f'Min: {min_chars}')\n",
    "\n",
    "plt.xlabel('Number of Words') #Characters\n",
    "plt.ylabel('Frequency')\n",
    "plt.legend(loc='upper right')\n",
    "plt.show()"
   ]
  },
  {
   "cell_type": "markdown",
   "metadata": {
    "id": "MXnx0829SHQz"
   },
   "source": [
    "# Process data"
   ]
  },
  {
   "cell_type": "code",
   "execution_count": null,
   "metadata": {
    "executionInfo": {
     "elapsed": 2,
     "status": "ok",
     "timestamp": 1728010291002,
     "user": {
      "displayName": "multimedia research",
      "userId": "00317422700387342345"
     },
     "user_tz": 240
    },
    "id": "Igty77UFUOce"
   },
   "outputs": [],
   "source": [
    "RANDOM_STATE = 8\n",
    "IMAGE_MODEL = 'google/vit-base-patch16-384'"
   ]
  },
  {
   "cell_type": "code",
   "execution_count": null,
   "metadata": {
    "executionInfo": {
     "elapsed": 7784,
     "status": "ok",
     "timestamp": 1728010298784,
     "user": {
      "displayName": "multimedia research",
      "userId": "00317422700387342345"
     },
     "user_tz": 240
    },
    "id": "TQe_lZvTSSUO"
   },
   "outputs": [],
   "source": [
    "# load dataset\n",
    "dataset_path = '/content/drive/My Drive/multimodal_classifier/data/WildFireCan-MMD.csv'\n",
    "dataset = pd.read_csv(dataset_path)\n",
    "\n",
    "# Replace samples without extracted text with filler\n",
    "for i, row in dataset.iterrows():\n",
    "  msg = row['extracted_text']\n",
    "  if msg == '' or None:\n",
    "    dataset.at[i, 'extracted_text'] = 'Image does not contain text.'\n",
    "\n",
    "# shuffle data\n",
    "dataset = dataset.sample(frac=1, random_state=RANDOM_STATE).reset_index(drop=True)\n",
    "\n",
    "# Split the data into train and test sets (80/20 split), stratifying by 'label'\n",
    "train_df, test_df = train_test_split(dataset, test_size=0.2, random_state=RANDOM_STATE, stratify=dataset['label'])"
   ]
  },
  {
   "cell_type": "code",
   "execution_count": null,
   "metadata": {
    "colab": {
     "base_uri": "https://localhost:8080/"
    },
    "executionInfo": {
     "elapsed": 2623,
     "status": "ok",
     "timestamp": 1727197764642,
     "user": {
      "displayName": "multimedia research",
      "userId": "00317422700387342345"
     },
     "user_tz": 240
    },
    "id": "akUKaaZfTsh1",
    "outputId": "d3d15020-3d2d-44d3-c792-cf59e3b75106"
   },
   "outputs": [],
   "source": [
    "tokenizer = RobertaTokenizer.from_pretrained('roberta-base')\n",
    "image_processor = AutoImageProcessor.from_pretrained(IMAGE_MODEL)"
   ]
  },
  {
   "cell_type": "code",
   "execution_count": null,
   "metadata": {
    "id": "5QDorcLhTuEl"
   },
   "outputs": [],
   "source": [
    "# Tokenize the data\n",
    "def tokenize_data(text):\n",
    "    return tokenizer(text, padding='max_length', truncation=True, max_length=200, return_tensors='pt')\n",
    "\n",
    "# Generate text encodings\n",
    "text_train_encodings = tokenize_data(train_df['text'].tolist())\n",
    "text_test_encodings = tokenize_data(test_df['text'].tolist())\n",
    "\n",
    "# Generate easyocr-text encodings\n",
    "easyocr_train_encodings = tokenize_data(train_df['extracted_text'].tolist())\n",
    "easyocr_test_encodings = tokenize_data(test_df['extracted_text'].tolist())\n",
    "\n",
    "# Make vars for image paths\n",
    "train_imgs = train_df['image'].tolist()\n",
    "test_imgs = test_df['image'].tolist()\n",
    "\n",
    "# Encode labels\n",
    "label_encoder = LabelEncoder()\n",
    "train_labels = label_encoder.fit_transform(train_df['label'].values)\n",
    "test_labels = label_encoder.transform(test_df['label'].values)\n",
    "\n",
    "# Make train and test datasets\n",
    "train_dataset = MultimodalDataset(text_train_encodings, easyocr_train_encodings, train_imgs, train_labels, image_processor=image_processor)\n",
    "test_dataset = MultimodalDataset(text_test_encodings, easyocr_test_encodings, test_imgs, test_labels, image_processor=image_processor)"
   ]
  },
  {
   "cell_type": "code",
   "execution_count": null,
   "metadata": {
    "id": "MHZiUXVAUwwm"
   },
   "outputs": [],
   "source": [
    "# Make train and test dataloaders\n",
    "train_loader = DataLoader(train_dataset, batch_size=16, shuffle=True, num_workers=12, pin_memory=True)\n",
    "test_loader = DataLoader(test_dataset, batch_size=16, shuffle=False, num_workers=12, pin_memory=True)"
   ]
  },
  {
   "cell_type": "markdown",
   "metadata": {
    "id": "ORWU8pOdW4Di"
   },
   "source": [
    "# Train and test"
   ]
  },
  {
   "cell_type": "code",
   "execution_count": null,
   "metadata": {
    "colab": {
     "base_uri": "https://localhost:8080/",
     "height": 191,
     "referenced_widgets": [
      "33d98dacb9d64dc98b742da6826b632b",
      "39b9f8dca7eb437aa4c9027c92d6990f",
      "4e52214cd32345e1b98cae5d7ac87303",
      "96c1d8983e3c4f40b7e0e5c0f8abfa3e",
      "3548f93420884bc18e8ebd1cf5b2bdc7",
      "46d17fdf320742318eb705f653f92f1e",
      "149aec1088ba4c60992a5f29d7f63e1c",
      "12dea46b56f44cc7a2abfa36d576d0b1",
      "5cddb5051039481fb532b2e44bb53bad",
      "b284d38c4d65475a8cbb99e01e17f9e3",
      "64a280416f754f49b8b3bcd0cc06acc9",
      "c2ab28ecf00640148ac3ec941234a1b0",
      "ef98938bbad546c4a4a5028edb593aaf",
      "7427c94cc8204b20bd3284bde7dac7b8",
      "a4a51812720148229acea6b7f7f71a3a",
      "ccdb6a5712e441fbb7579b518522abee",
      "ece7f7331f1642cf991ee55b07232e60",
      "1bbc7f464c3b4f02a473a200d4c74dcb",
      "418869f6a9d4452498ffc1faf1af7aa1",
      "c39d4909a5dc4f36ac8a47e6160a14cd",
      "7f74d1f4db3a4c1887e24bfae5b1f8e9",
      "0405ac88337f49af92179721e91960a4"
     ]
    },
    "executionInfo": {
     "elapsed": 5436,
     "status": "ok",
     "timestamp": 1725988141966,
     "user": {
      "displayName": "multimedia research",
      "userId": "00317422700387342345"
     },
     "user_tz": 240
    },
    "id": "Oi_p8cZKW0hh",
    "outputId": "9d44003b-7d3d-4f1b-ee4d-6753a1fd72c6"
   },
   "outputs": [],
   "source": [
    "num_labels = len(label_encoder.classes_)\n",
    "model = MultimodalModel(num_labels)\n",
    "device = torch.device('cuda') if torch.cuda.is_available() else torch.device('cpu')\n",
    "model.to(device)\n",
    "optimizer = AdamW(model.parameters(), lr=5e-5)\n",
    "criterion = torch.nn.CrossEntropyLoss()"
   ]
  },
  {
   "cell_type": "code",
   "execution_count": null,
   "metadata": {
    "id": "rQCNEIQnn-QD"
   },
   "outputs": [],
   "source": [
    "# Directory to save the best model\n",
    "model_save_path = '/content/drive/My Drive/multimodal_classifier/model/early_fusion/model_3-head'\n",
    "if not os.path.exists(model_save_path):\n",
    "    os.makedirs(model_save_path)\n",
    "best_test_accuracy = 0.0"
   ]
  },
  {
   "cell_type": "code",
   "execution_count": null,
   "metadata": {
    "id": "vj1k8yNnW6xW"
   },
   "outputs": [],
   "source": [
    "# train model\n",
    "num_epochs = 15\n",
    "for epoch in range(num_epochs):\n",
    "    train_loss, train_accuracy = train(model, train_loader, optimizer, device, criterion)\n",
    "    test_loss, test_accuracy = evaluate(model, test_loader, device, criterion)\n",
    "    print(f'Epoch {epoch + 1}/{num_epochs}')\n",
    "    print(f'Training Acc:  {train_accuracy:.4f}')\n",
    "    print(f'Training Loss: {train_loss:.4f}')\n",
    "\n",
    "    # Save the best model based on validation accuracy\n",
    "    if test_accuracy > best_test_accuracy:\n",
    "        best_test_accuracy = test_accuracy\n",
    "        torch.save(model.state_dict(), os.path.join(model_save_path, 'model.bin'))\n",
    "        tokenizer.save_pretrained(model_save_path)\n",
    "        print(f\"Best model saved with test accuracy: {best_test_accuracy:.4f}\")"
   ]
  },
  {
   "cell_type": "code",
   "execution_count": null,
   "metadata": {
    "id": "ioz3RfPPl_sN"
   },
   "outputs": [],
   "source": [
    "# load saved model and evaluate\n",
    "model_save_path = '/content/drive/My Drive/multimodal_classifier/model/early_fusion/model_3-head'\n",
    "model.load_state_dict(torch.load(os.path.join(model_save_path, 'model.bin')))"
   ]
  },
  {
   "cell_type": "code",
   "execution_count": null,
   "metadata": {
    "colab": {
     "base_uri": "https://localhost:8080/"
    },
    "executionInfo": {
     "elapsed": 13309,
     "status": "ok",
     "timestamp": 1725991618237,
     "user": {
      "displayName": "multimedia research",
      "userId": "00317422700387342345"
     },
     "user_tz": 240
    },
    "id": "PR4iYzh76vn_",
    "outputId": "6dd05447-264e-4d39-8993-3ce7077429a4"
   },
   "outputs": [],
   "source": [
    "all_targets, all_predictions, _, _ = evaluate(model, test_loader, device, criterion)"
   ]
  },
  {
   "cell_type": "code",
   "execution_count": null,
   "metadata": {
    "colab": {
     "base_uri": "https://localhost:8080/",
     "height": 683
    },
    "executionInfo": {
     "elapsed": 1830,
     "status": "ok",
     "timestamp": 1725992110660,
     "user": {
      "displayName": "multimedia research",
      "userId": "00317422700387342345"
     },
     "user_tz": 240
    },
    "id": "829FSiOdmNgu",
    "outputId": "8dcf10cf-f852-4aea-e6f2-846a004d5919"
   },
   "outputs": [],
   "source": [
    "# show confusion matrix\n",
    "cm = confusion_matrix(all_targets, all_predictions)\n",
    "disp = ConfusionMatrixDisplay(confusion_matrix=cm, display_labels=label_encoder.classes_)\n",
    "disp.plot(xticks_rotation=90)"
   ]
  }
 ],
 "metadata": {
  "colab": {
   "authorship_tag": "ABX9TyNzF0EmC7rPGCpq3Wa5qG6h",
   "collapsed_sections": [
    "xVlk3dQPRJAR",
    "OeCeb9y-Rs93",
    "pG1mC-MnR84F",
    "MXnx0829SHQz"
   ],
   "provenance": []
  },
  "kernelspec": {
   "display_name": "Python 3",
   "name": "python3"
  },
  "language_info": {
   "name": "python"
  },
  "widgets": {
   "application/vnd.jupyter.widget-state+json": {
    "0405ac88337f49af92179721e91960a4": {
     "model_module": "@jupyter-widgets/controls",
     "model_module_version": "1.5.0",
     "model_name": "DescriptionStyleModel",
     "state": {
      "_model_module": "@jupyter-widgets/controls",
      "_model_module_version": "1.5.0",
      "_model_name": "DescriptionStyleModel",
      "_view_count": null,
      "_view_module": "@jupyter-widgets/base",
      "_view_module_version": "1.2.0",
      "_view_name": "StyleView",
      "description_width": ""
     }
    },
    "12dea46b56f44cc7a2abfa36d576d0b1": {
     "model_module": "@jupyter-widgets/base",
     "model_module_version": "1.2.0",
     "model_name": "LayoutModel",
     "state": {
      "_model_module": "@jupyter-widgets/base",
      "_model_module_version": "1.2.0",
      "_model_name": "LayoutModel",
      "_view_count": null,
      "_view_module": "@jupyter-widgets/base",
      "_view_module_version": "1.2.0",
      "_view_name": "LayoutView",
      "align_content": null,
      "align_items": null,
      "align_self": null,
      "border": null,
      "bottom": null,
      "display": null,
      "flex": null,
      "flex_flow": null,
      "grid_area": null,
      "grid_auto_columns": null,
      "grid_auto_flow": null,
      "grid_auto_rows": null,
      "grid_column": null,
      "grid_gap": null,
      "grid_row": null,
      "grid_template_areas": null,
      "grid_template_columns": null,
      "grid_template_rows": null,
      "height": null,
      "justify_content": null,
      "justify_items": null,
      "left": null,
      "margin": null,
      "max_height": null,
      "max_width": null,
      "min_height": null,
      "min_width": null,
      "object_fit": null,
      "object_position": null,
      "order": null,
      "overflow": null,
      "overflow_x": null,
      "overflow_y": null,
      "padding": null,
      "right": null,
      "top": null,
      "visibility": null,
      "width": null
     }
    },
    "149aec1088ba4c60992a5f29d7f63e1c": {
     "model_module": "@jupyter-widgets/controls",
     "model_module_version": "1.5.0",
     "model_name": "DescriptionStyleModel",
     "state": {
      "_model_module": "@jupyter-widgets/controls",
      "_model_module_version": "1.5.0",
      "_model_name": "DescriptionStyleModel",
      "_view_count": null,
      "_view_module": "@jupyter-widgets/base",
      "_view_module_version": "1.2.0",
      "_view_name": "StyleView",
      "description_width": ""
     }
    },
    "1bbc7f464c3b4f02a473a200d4c74dcb": {
     "model_module": "@jupyter-widgets/controls",
     "model_module_version": "1.5.0",
     "model_name": "DescriptionStyleModel",
     "state": {
      "_model_module": "@jupyter-widgets/controls",
      "_model_module_version": "1.5.0",
      "_model_name": "DescriptionStyleModel",
      "_view_count": null,
      "_view_module": "@jupyter-widgets/base",
      "_view_module_version": "1.2.0",
      "_view_name": "StyleView",
      "description_width": ""
     }
    },
    "33d98dacb9d64dc98b742da6826b632b": {
     "model_module": "@jupyter-widgets/controls",
     "model_module_version": "1.5.0",
     "model_name": "HBoxModel",
     "state": {
      "_dom_classes": [],
      "_model_module": "@jupyter-widgets/controls",
      "_model_module_version": "1.5.0",
      "_model_name": "HBoxModel",
      "_view_count": null,
      "_view_module": "@jupyter-widgets/controls",
      "_view_module_version": "1.5.0",
      "_view_name": "HBoxView",
      "box_style": "",
      "children": [
       "IPY_MODEL_39b9f8dca7eb437aa4c9027c92d6990f",
       "IPY_MODEL_4e52214cd32345e1b98cae5d7ac87303",
       "IPY_MODEL_96c1d8983e3c4f40b7e0e5c0f8abfa3e"
      ],
      "layout": "IPY_MODEL_3548f93420884bc18e8ebd1cf5b2bdc7"
     }
    },
    "3548f93420884bc18e8ebd1cf5b2bdc7": {
     "model_module": "@jupyter-widgets/base",
     "model_module_version": "1.2.0",
     "model_name": "LayoutModel",
     "state": {
      "_model_module": "@jupyter-widgets/base",
      "_model_module_version": "1.2.0",
      "_model_name": "LayoutModel",
      "_view_count": null,
      "_view_module": "@jupyter-widgets/base",
      "_view_module_version": "1.2.0",
      "_view_name": "LayoutView",
      "align_content": null,
      "align_items": null,
      "align_self": null,
      "border": null,
      "bottom": null,
      "display": null,
      "flex": null,
      "flex_flow": null,
      "grid_area": null,
      "grid_auto_columns": null,
      "grid_auto_flow": null,
      "grid_auto_rows": null,
      "grid_column": null,
      "grid_gap": null,
      "grid_row": null,
      "grid_template_areas": null,
      "grid_template_columns": null,
      "grid_template_rows": null,
      "height": null,
      "justify_content": null,
      "justify_items": null,
      "left": null,
      "margin": null,
      "max_height": null,
      "max_width": null,
      "min_height": null,
      "min_width": null,
      "object_fit": null,
      "object_position": null,
      "order": null,
      "overflow": null,
      "overflow_x": null,
      "overflow_y": null,
      "padding": null,
      "right": null,
      "top": null,
      "visibility": null,
      "width": null
     }
    },
    "39b9f8dca7eb437aa4c9027c92d6990f": {
     "model_module": "@jupyter-widgets/controls",
     "model_module_version": "1.5.0",
     "model_name": "HTMLModel",
     "state": {
      "_dom_classes": [],
      "_model_module": "@jupyter-widgets/controls",
      "_model_module_version": "1.5.0",
      "_model_name": "HTMLModel",
      "_view_count": null,
      "_view_module": "@jupyter-widgets/controls",
      "_view_module_version": "1.5.0",
      "_view_name": "HTMLView",
      "description": "",
      "description_tooltip": null,
      "layout": "IPY_MODEL_46d17fdf320742318eb705f653f92f1e",
      "placeholder": "​",
      "style": "IPY_MODEL_149aec1088ba4c60992a5f29d7f63e1c",
      "value": "model.safetensors: 100%"
     }
    },
    "418869f6a9d4452498ffc1faf1af7aa1": {
     "model_module": "@jupyter-widgets/base",
     "model_module_version": "1.2.0",
     "model_name": "LayoutModel",
     "state": {
      "_model_module": "@jupyter-widgets/base",
      "_model_module_version": "1.2.0",
      "_model_name": "LayoutModel",
      "_view_count": null,
      "_view_module": "@jupyter-widgets/base",
      "_view_module_version": "1.2.0",
      "_view_name": "LayoutView",
      "align_content": null,
      "align_items": null,
      "align_self": null,
      "border": null,
      "bottom": null,
      "display": null,
      "flex": null,
      "flex_flow": null,
      "grid_area": null,
      "grid_auto_columns": null,
      "grid_auto_flow": null,
      "grid_auto_rows": null,
      "grid_column": null,
      "grid_gap": null,
      "grid_row": null,
      "grid_template_areas": null,
      "grid_template_columns": null,
      "grid_template_rows": null,
      "height": null,
      "justify_content": null,
      "justify_items": null,
      "left": null,
      "margin": null,
      "max_height": null,
      "max_width": null,
      "min_height": null,
      "min_width": null,
      "object_fit": null,
      "object_position": null,
      "order": null,
      "overflow": null,
      "overflow_x": null,
      "overflow_y": null,
      "padding": null,
      "right": null,
      "top": null,
      "visibility": null,
      "width": null
     }
    },
    "46d17fdf320742318eb705f653f92f1e": {
     "model_module": "@jupyter-widgets/base",
     "model_module_version": "1.2.0",
     "model_name": "LayoutModel",
     "state": {
      "_model_module": "@jupyter-widgets/base",
      "_model_module_version": "1.2.0",
      "_model_name": "LayoutModel",
      "_view_count": null,
      "_view_module": "@jupyter-widgets/base",
      "_view_module_version": "1.2.0",
      "_view_name": "LayoutView",
      "align_content": null,
      "align_items": null,
      "align_self": null,
      "border": null,
      "bottom": null,
      "display": null,
      "flex": null,
      "flex_flow": null,
      "grid_area": null,
      "grid_auto_columns": null,
      "grid_auto_flow": null,
      "grid_auto_rows": null,
      "grid_column": null,
      "grid_gap": null,
      "grid_row": null,
      "grid_template_areas": null,
      "grid_template_columns": null,
      "grid_template_rows": null,
      "height": null,
      "justify_content": null,
      "justify_items": null,
      "left": null,
      "margin": null,
      "max_height": null,
      "max_width": null,
      "min_height": null,
      "min_width": null,
      "object_fit": null,
      "object_position": null,
      "order": null,
      "overflow": null,
      "overflow_x": null,
      "overflow_y": null,
      "padding": null,
      "right": null,
      "top": null,
      "visibility": null,
      "width": null
     }
    },
    "4e52214cd32345e1b98cae5d7ac87303": {
     "model_module": "@jupyter-widgets/controls",
     "model_module_version": "1.5.0",
     "model_name": "FloatProgressModel",
     "state": {
      "_dom_classes": [],
      "_model_module": "@jupyter-widgets/controls",
      "_model_module_version": "1.5.0",
      "_model_name": "FloatProgressModel",
      "_view_count": null,
      "_view_module": "@jupyter-widgets/controls",
      "_view_module_version": "1.5.0",
      "_view_name": "ProgressView",
      "bar_style": "success",
      "description": "",
      "description_tooltip": null,
      "layout": "IPY_MODEL_12dea46b56f44cc7a2abfa36d576d0b1",
      "max": 498818054,
      "min": 0,
      "orientation": "horizontal",
      "style": "IPY_MODEL_5cddb5051039481fb532b2e44bb53bad",
      "value": 498818054
     }
    },
    "5cddb5051039481fb532b2e44bb53bad": {
     "model_module": "@jupyter-widgets/controls",
     "model_module_version": "1.5.0",
     "model_name": "ProgressStyleModel",
     "state": {
      "_model_module": "@jupyter-widgets/controls",
      "_model_module_version": "1.5.0",
      "_model_name": "ProgressStyleModel",
      "_view_count": null,
      "_view_module": "@jupyter-widgets/base",
      "_view_module_version": "1.2.0",
      "_view_name": "StyleView",
      "bar_color": null,
      "description_width": ""
     }
    },
    "64a280416f754f49b8b3bcd0cc06acc9": {
     "model_module": "@jupyter-widgets/controls",
     "model_module_version": "1.5.0",
     "model_name": "DescriptionStyleModel",
     "state": {
      "_model_module": "@jupyter-widgets/controls",
      "_model_module_version": "1.5.0",
      "_model_name": "DescriptionStyleModel",
      "_view_count": null,
      "_view_module": "@jupyter-widgets/base",
      "_view_module_version": "1.2.0",
      "_view_name": "StyleView",
      "description_width": ""
     }
    },
    "7427c94cc8204b20bd3284bde7dac7b8": {
     "model_module": "@jupyter-widgets/controls",
     "model_module_version": "1.5.0",
     "model_name": "FloatProgressModel",
     "state": {
      "_dom_classes": [],
      "_model_module": "@jupyter-widgets/controls",
      "_model_module_version": "1.5.0",
      "_model_name": "FloatProgressModel",
      "_view_count": null,
      "_view_module": "@jupyter-widgets/controls",
      "_view_module_version": "1.5.0",
      "_view_name": "ProgressView",
      "bar_style": "success",
      "description": "",
      "description_tooltip": null,
      "layout": "IPY_MODEL_418869f6a9d4452498ffc1faf1af7aa1",
      "max": 347461216,
      "min": 0,
      "orientation": "horizontal",
      "style": "IPY_MODEL_c39d4909a5dc4f36ac8a47e6160a14cd",
      "value": 347461216
     }
    },
    "7f74d1f4db3a4c1887e24bfae5b1f8e9": {
     "model_module": "@jupyter-widgets/base",
     "model_module_version": "1.2.0",
     "model_name": "LayoutModel",
     "state": {
      "_model_module": "@jupyter-widgets/base",
      "_model_module_version": "1.2.0",
      "_model_name": "LayoutModel",
      "_view_count": null,
      "_view_module": "@jupyter-widgets/base",
      "_view_module_version": "1.2.0",
      "_view_name": "LayoutView",
      "align_content": null,
      "align_items": null,
      "align_self": null,
      "border": null,
      "bottom": null,
      "display": null,
      "flex": null,
      "flex_flow": null,
      "grid_area": null,
      "grid_auto_columns": null,
      "grid_auto_flow": null,
      "grid_auto_rows": null,
      "grid_column": null,
      "grid_gap": null,
      "grid_row": null,
      "grid_template_areas": null,
      "grid_template_columns": null,
      "grid_template_rows": null,
      "height": null,
      "justify_content": null,
      "justify_items": null,
      "left": null,
      "margin": null,
      "max_height": null,
      "max_width": null,
      "min_height": null,
      "min_width": null,
      "object_fit": null,
      "object_position": null,
      "order": null,
      "overflow": null,
      "overflow_x": null,
      "overflow_y": null,
      "padding": null,
      "right": null,
      "top": null,
      "visibility": null,
      "width": null
     }
    },
    "96c1d8983e3c4f40b7e0e5c0f8abfa3e": {
     "model_module": "@jupyter-widgets/controls",
     "model_module_version": "1.5.0",
     "model_name": "HTMLModel",
     "state": {
      "_dom_classes": [],
      "_model_module": "@jupyter-widgets/controls",
      "_model_module_version": "1.5.0",
      "_model_name": "HTMLModel",
      "_view_count": null,
      "_view_module": "@jupyter-widgets/controls",
      "_view_module_version": "1.5.0",
      "_view_name": "HTMLView",
      "description": "",
      "description_tooltip": null,
      "layout": "IPY_MODEL_b284d38c4d65475a8cbb99e01e17f9e3",
      "placeholder": "​",
      "style": "IPY_MODEL_64a280416f754f49b8b3bcd0cc06acc9",
      "value": " 499M/499M [00:01&lt;00:00, 482MB/s]"
     }
    },
    "a4a51812720148229acea6b7f7f71a3a": {
     "model_module": "@jupyter-widgets/controls",
     "model_module_version": "1.5.0",
     "model_name": "HTMLModel",
     "state": {
      "_dom_classes": [],
      "_model_module": "@jupyter-widgets/controls",
      "_model_module_version": "1.5.0",
      "_model_name": "HTMLModel",
      "_view_count": null,
      "_view_module": "@jupyter-widgets/controls",
      "_view_module_version": "1.5.0",
      "_view_name": "HTMLView",
      "description": "",
      "description_tooltip": null,
      "layout": "IPY_MODEL_7f74d1f4db3a4c1887e24bfae5b1f8e9",
      "placeholder": "​",
      "style": "IPY_MODEL_0405ac88337f49af92179721e91960a4",
      "value": " 347M/347M [00:00&lt;00:00, 463MB/s]"
     }
    },
    "b284d38c4d65475a8cbb99e01e17f9e3": {
     "model_module": "@jupyter-widgets/base",
     "model_module_version": "1.2.0",
     "model_name": "LayoutModel",
     "state": {
      "_model_module": "@jupyter-widgets/base",
      "_model_module_version": "1.2.0",
      "_model_name": "LayoutModel",
      "_view_count": null,
      "_view_module": "@jupyter-widgets/base",
      "_view_module_version": "1.2.0",
      "_view_name": "LayoutView",
      "align_content": null,
      "align_items": null,
      "align_self": null,
      "border": null,
      "bottom": null,
      "display": null,
      "flex": null,
      "flex_flow": null,
      "grid_area": null,
      "grid_auto_columns": null,
      "grid_auto_flow": null,
      "grid_auto_rows": null,
      "grid_column": null,
      "grid_gap": null,
      "grid_row": null,
      "grid_template_areas": null,
      "grid_template_columns": null,
      "grid_template_rows": null,
      "height": null,
      "justify_content": null,
      "justify_items": null,
      "left": null,
      "margin": null,
      "max_height": null,
      "max_width": null,
      "min_height": null,
      "min_width": null,
      "object_fit": null,
      "object_position": null,
      "order": null,
      "overflow": null,
      "overflow_x": null,
      "overflow_y": null,
      "padding": null,
      "right": null,
      "top": null,
      "visibility": null,
      "width": null
     }
    },
    "c2ab28ecf00640148ac3ec941234a1b0": {
     "model_module": "@jupyter-widgets/controls",
     "model_module_version": "1.5.0",
     "model_name": "HBoxModel",
     "state": {
      "_dom_classes": [],
      "_model_module": "@jupyter-widgets/controls",
      "_model_module_version": "1.5.0",
      "_model_name": "HBoxModel",
      "_view_count": null,
      "_view_module": "@jupyter-widgets/controls",
      "_view_module_version": "1.5.0",
      "_view_name": "HBoxView",
      "box_style": "",
      "children": [
       "IPY_MODEL_ef98938bbad546c4a4a5028edb593aaf",
       "IPY_MODEL_7427c94cc8204b20bd3284bde7dac7b8",
       "IPY_MODEL_a4a51812720148229acea6b7f7f71a3a"
      ],
      "layout": "IPY_MODEL_ccdb6a5712e441fbb7579b518522abee"
     }
    },
    "c39d4909a5dc4f36ac8a47e6160a14cd": {
     "model_module": "@jupyter-widgets/controls",
     "model_module_version": "1.5.0",
     "model_name": "ProgressStyleModel",
     "state": {
      "_model_module": "@jupyter-widgets/controls",
      "_model_module_version": "1.5.0",
      "_model_name": "ProgressStyleModel",
      "_view_count": null,
      "_view_module": "@jupyter-widgets/base",
      "_view_module_version": "1.2.0",
      "_view_name": "StyleView",
      "bar_color": null,
      "description_width": ""
     }
    },
    "ccdb6a5712e441fbb7579b518522abee": {
     "model_module": "@jupyter-widgets/base",
     "model_module_version": "1.2.0",
     "model_name": "LayoutModel",
     "state": {
      "_model_module": "@jupyter-widgets/base",
      "_model_module_version": "1.2.0",
      "_model_name": "LayoutModel",
      "_view_count": null,
      "_view_module": "@jupyter-widgets/base",
      "_view_module_version": "1.2.0",
      "_view_name": "LayoutView",
      "align_content": null,
      "align_items": null,
      "align_self": null,
      "border": null,
      "bottom": null,
      "display": null,
      "flex": null,
      "flex_flow": null,
      "grid_area": null,
      "grid_auto_columns": null,
      "grid_auto_flow": null,
      "grid_auto_rows": null,
      "grid_column": null,
      "grid_gap": null,
      "grid_row": null,
      "grid_template_areas": null,
      "grid_template_columns": null,
      "grid_template_rows": null,
      "height": null,
      "justify_content": null,
      "justify_items": null,
      "left": null,
      "margin": null,
      "max_height": null,
      "max_width": null,
      "min_height": null,
      "min_width": null,
      "object_fit": null,
      "object_position": null,
      "order": null,
      "overflow": null,
      "overflow_x": null,
      "overflow_y": null,
      "padding": null,
      "right": null,
      "top": null,
      "visibility": null,
      "width": null
     }
    },
    "ece7f7331f1642cf991ee55b07232e60": {
     "model_module": "@jupyter-widgets/base",
     "model_module_version": "1.2.0",
     "model_name": "LayoutModel",
     "state": {
      "_model_module": "@jupyter-widgets/base",
      "_model_module_version": "1.2.0",
      "_model_name": "LayoutModel",
      "_view_count": null,
      "_view_module": "@jupyter-widgets/base",
      "_view_module_version": "1.2.0",
      "_view_name": "LayoutView",
      "align_content": null,
      "align_items": null,
      "align_self": null,
      "border": null,
      "bottom": null,
      "display": null,
      "flex": null,
      "flex_flow": null,
      "grid_area": null,
      "grid_auto_columns": null,
      "grid_auto_flow": null,
      "grid_auto_rows": null,
      "grid_column": null,
      "grid_gap": null,
      "grid_row": null,
      "grid_template_areas": null,
      "grid_template_columns": null,
      "grid_template_rows": null,
      "height": null,
      "justify_content": null,
      "justify_items": null,
      "left": null,
      "margin": null,
      "max_height": null,
      "max_width": null,
      "min_height": null,
      "min_width": null,
      "object_fit": null,
      "object_position": null,
      "order": null,
      "overflow": null,
      "overflow_x": null,
      "overflow_y": null,
      "padding": null,
      "right": null,
      "top": null,
      "visibility": null,
      "width": null
     }
    },
    "ef98938bbad546c4a4a5028edb593aaf": {
     "model_module": "@jupyter-widgets/controls",
     "model_module_version": "1.5.0",
     "model_name": "HTMLModel",
     "state": {
      "_dom_classes": [],
      "_model_module": "@jupyter-widgets/controls",
      "_model_module_version": "1.5.0",
      "_model_name": "HTMLModel",
      "_view_count": null,
      "_view_module": "@jupyter-widgets/controls",
      "_view_module_version": "1.5.0",
      "_view_name": "HTMLView",
      "description": "",
      "description_tooltip": null,
      "layout": "IPY_MODEL_ece7f7331f1642cf991ee55b07232e60",
      "placeholder": "​",
      "style": "IPY_MODEL_1bbc7f464c3b4f02a473a200d4c74dcb",
      "value": "model.safetensors: 100%"
     }
    }
   }
  }
 },
 "nbformat": 4,
 "nbformat_minor": 0
}
