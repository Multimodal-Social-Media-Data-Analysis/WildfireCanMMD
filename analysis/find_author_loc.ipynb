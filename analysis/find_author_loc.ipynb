{
 "cells": [
  {
   "cell_type": "code",
   "execution_count": null,
   "id": "1eb66868",
   "metadata": {},
   "outputs": [],
   "source": [
    "import pandas as pd\n",
    "import matplotlib.pyplot as plt\n",
    "import osmnx as ox\n",
    "import pandas as pd\n",
    "import time\n",
    "import json\n",
    "from tqdm import tqdm\n",
    "import plotly.io as pio\n",
    "import numpy as np\n",
    "pio.renderers.default = 'notebook'\n",
    "\n",
    "RANDOM_STATE = 8\n",
    "pd.set_option('display.max_rows', None)"
   ]
  },
  {
   "cell_type": "markdown",
   "id": "bddc5425",
   "metadata": {},
   "source": [
    "# load unlabeled data"
   ]
  },
  {
   "cell_type": "code",
   "execution_count": null,
   "id": "f98f985a",
   "metadata": {},
   "outputs": [],
   "source": [
    "df1 = pd.read_csv('unlabeled_50k/wildfires_2018/text&image/bc_wildfires_2018_combined_5,629.csv')\n",
    "df2 = pd.read_csv('unlabeled_50k/wildfires_2019/text&image/ab_wildfires_2019_combined_2,454.csv')\n",
    "df3 = pd.read_csv('unlabeled_50k/wildfires_2020/text&image/wildfires_2020_combined_1,004.csv')\n",
    "df4 = pd.read_csv('unlabeled_50k/wildfires_2021/text&image/wildfires_2021_combined_5,790.csv')\n",
    "df5 = pd.read_csv('unlabeled_50k/wildfires_2022/text&image/wildfires_2022_combined_137.csv')\n",
    "df6 = pd.read_csv('unlabeled_50k/wildfires_2023/text&image/wildfires_2023_combined_18,020.csv')\n",
    "df7 = pd.read_csv('unlabeled_50k/wildfires_2024/text&image/wildfires_2024_combined_13,245.csv')\n",
    "df1['data_num'] = 1\n",
    "df2['data_num'] = 2\n",
    "df3['data_num'] = 3\n",
    "df4['data_num'] = 4\n",
    "df5['data_num'] = 5\n",
    "df6['data_num'] = 6\n",
    "df7['data_num'] = 7\n",
    "df1['image'] = 'unlabeled_50k/wildfires_2018/text&image/wildfires_2018_images/' + df1['image']\n",
    "df2['image'] = 'unlabeled_50k/wildfires_2019/text&image/wildfires_2019_images/' + df2['image']\n",
    "df3['image'] = 'unlabeled_50k/wildfires_2020/text&image/wildfires_2020_images/' + df3['image']\n",
    "df4['image'] = 'unlabeled_50k/wildfires_2021/text&image/wildfires_2021_images/' + df4['image']\n",
    "df5['image'] = 'unlabeled_50k/wildfires_2022/text&image/wildfires_2022_images/' + df5['image']\n",
    "df6['image'] = 'unlabeled_50k/wildfires_2023/text&image/wildfires_2023_images/' + df6['image']\n",
    "df7['image'] = 'unlabeled_50k/wildfires_2024/text&image/wildfires_2024_images/' + df7['image']\n",
    "data = pd.concat([df1, df2, df3, df4, df5, df6, df7], ignore_index=True)\n",
    "data = data.sort_values(by=\"posted_at\", ignore_index=True)\n",
    "data[:3]"
   ]
  },
  {
   "cell_type": "code",
   "execution_count": null,
   "id": "8adcb414",
   "metadata": {},
   "outputs": [],
   "source": [
    "# # save to then label with classifier\n",
    "# data.to_csv('../U_data.csv', index=False)"
   ]
  },
  {
   "cell_type": "code",
   "execution_count": null,
   "id": "23c1ea07",
   "metadata": {},
   "outputs": [],
   "source": [
    "# load after labeling with classifier\n",
    "df = pd.read_csv('../U_data_pred.csv')\n",
    "df = df.sort_values(by=\"posted_at\", ignore_index=True)\n",
    "df['data_num'] = data['data_num']\n",
    "df[:3]"
   ]
  },
  {
   "cell_type": "markdown",
   "id": "02ca09f7",
   "metadata": {},
   "source": [
    "# load labeled data"
   ]
  },
  {
   "cell_type": "code",
   "execution_count": null,
   "id": "463867ef",
   "metadata": {},
   "outputs": [],
   "source": [
    "df = pd.read_csv('../dataset.csv')"
   ]
  },
  {
   "cell_type": "markdown",
   "id": "72a46cea",
   "metadata": {},
   "source": [
    "# extract author provinces using osmnx"
   ]
  },
  {
   "cell_type": "code",
   "execution_count": null,
   "id": "b9dfb89e",
   "metadata": {},
   "outputs": [],
   "source": [
    "# # run once to create loc_to_province.json (takes a while)\n",
    "# unique_locs = df['author_loc'].dropna().unique()\n",
    "\n",
    "# provinces = [\n",
    "#     \"Alberta\", \"British Columbia\", \"Manitoba\", \"New Brunswick\", \"Newfoundland and Labrador\",\n",
    "#     \"Nova Scotia\", \"Ontario\", \"Prince Edward Island\", \"Quebec\", \"Saskatchewan\", \"Yukon\", \"Northwest Territories\", \"Nunavut\"\n",
    "# ]\n",
    "\n",
    "# def find_province(input_string):\n",
    "#     for province in provinces:\n",
    "#         if province.lower() in input_string.lower():\n",
    "#             return province\n",
    "#     return None  # If no match is found\n",
    "\n",
    "# loc_to_province = {}\n",
    "\n",
    "# for loc in tqdm(unique_locs, desc=\"Processing locations\"):\n",
    "#     try:\n",
    "#         result = ox.geocoder.geocode_to_gdf(loc, which_result=1)\n",
    "#         if \"Canada\" in result.display_name[0]:\n",
    "#             if result.addresstype[0] != \"country\":\n",
    "#                 province = find_province(result.display_name[0])\n",
    "#                 if province is not None:\n",
    "#                     loc_to_province[loc] = province\n",
    "#                 else:\n",
    "#                     loc_to_province[loc] = 'province not found in list'\n",
    "#             else:\n",
    "#                 loc_to_province[loc] = 'address is canada'\n",
    "#         else:\n",
    "#             loc_to_province[loc] = 'address not in canada'\n",
    "#     except Exception as e:\n",
    "#         loc_to_province[loc] = 'address not found'\n",
    "#     time.sleep(1)\n",
    "\n",
    "# with open(\"loc_to_province.json\", \"w\") as f:\n",
    "#     json.dump(loc_to_province, f)"
   ]
  },
  {
   "cell_type": "markdown",
   "id": "227a2081",
   "metadata": {},
   "source": [
    "# map and display"
   ]
  },
  {
   "cell_type": "code",
   "execution_count": null,
   "id": "b8299b64",
   "metadata": {},
   "outputs": [],
   "source": [
    "# load saved loc_to_province.json\n",
    "with open(\"loc_to_province.json\", \"r\") as f:\n",
    "    loc_to_province = json.load(f)"
   ]
  },
  {
   "cell_type": "code",
   "execution_count": null,
   "id": "a2dd2b73",
   "metadata": {},
   "outputs": [],
   "source": [
    "# map province to author_loc\n",
    "df['province'] = df['author_loc'].map(loc_to_province)\n",
    "df = df.reset_index(drop=True)"
   ]
  },
  {
   "cell_type": "code",
   "execution_count": null,
   "id": "7634d350",
   "metadata": {},
   "outputs": [],
   "source": [
    "# show province counts\n",
    "print(df['province'].value_counts())"
   ]
  },
  {
   "cell_type": "code",
   "execution_count": null,
   "id": "58a0f0a3",
   "metadata": {},
   "outputs": [],
   "source": [
    "# fix errors as needed here"
   ]
  },
  {
   "cell_type": "code",
   "execution_count": null,
   "id": "67538ca6",
   "metadata": {},
   "outputs": [],
   "source": [
    "# plot distribution of provinces\n",
    "\n",
    "# Count the occurrences of each province\n",
    "province_counts = df['province'].value_counts()\n",
    "# Group provinces with 14 or fewer counts into 'Other'\n",
    "other_count = province_counts[province_counts <= 14].sum()\n",
    "province_counts = province_counts[province_counts > 14]\n",
    "# Add the 'Other' category\n",
    "province_counts[\"MB, NS, QC, PE\"] = other_count\n",
    "\n",
    "# Define distances for each label (same length as number of slices)\n",
    "percent_distances = [0.5, 0.5, 0.7, 0.8, 0.7, 0.6, 0.5, 0.4]\n",
    "label_distances = [1.1, 1.1, 1.1, 1.1, 1.1, 1.1, 1.1, 1.0][:len(province_counts)]\n",
    "\n",
    "# Function for custom percent formatting\n",
    "def make_autopct(distances):\n",
    "    def autopct(pct):\n",
    "        idx = make_autopct.index\n",
    "        val = f'{pct:.1f}%'\n",
    "        make_autopct.index += 1\n",
    "        return val\n",
    "    make_autopct.index = 0\n",
    "    return autopct\n",
    "\n",
    "# Plot\n",
    "fig, ax = plt.subplots(figsize=(8, 8))\n",
    "wedges, texts, autotexts = ax.pie(\n",
    "    province_counts,\n",
    "    labels=province_counts.index,\n",
    "    autopct=make_autopct(percent_distances),\n",
    "    startangle=140,\n",
    "    colors=plt.cm.Paired.colors,\n",
    "    textprops={'fontsize': 15, 'fontweight': 'bold'},\n",
    "    pctdistance=1  # We'll override manually\n",
    ")\n",
    "\n",
    "# Manually reposition percent labels\n",
    "for i, a in enumerate(autotexts):\n",
    "    angle = (wedges[i].theta2 + wedges[i].theta1) / 2\n",
    "    x = percent_distances[i] * np.cos(np.deg2rad(angle))\n",
    "    y = percent_distances[i] * np.sin(np.deg2rad(angle))\n",
    "    a.set_position((x, y))\n",
    "\n",
    "# Manually reposition slice labels\n",
    "for i, t in enumerate(texts):\n",
    "    angle = (wedges[i].theta2 + wedges[i].theta1) / 2\n",
    "    x = label_distances[i] * np.cos(np.deg2rad(angle))\n",
    "    y = label_distances[i] * np.sin(np.deg2rad(angle))\n",
    "    t.set_position((x, y))\n",
    "\n",
    "ax.axis('equal')\n",
    "plt.show()"
   ]
  }
 ],
 "metadata": {
  "language_info": {
   "name": "python"
  }
 },
 "nbformat": 4,
 "nbformat_minor": 5
}
