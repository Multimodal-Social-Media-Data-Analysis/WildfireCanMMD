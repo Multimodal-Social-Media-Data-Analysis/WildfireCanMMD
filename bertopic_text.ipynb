{
 "cells": [
  {
   "cell_type": "code",
   "execution_count": null,
   "metadata": {},
   "outputs": [],
   "source": [
    "from bertopic import BERTopic\n",
    "from sklearn.feature_extraction.text import CountVectorizer\n",
    "import csv\n",
    "import re\n",
    "from datasets import Dataset\n",
    "from datasets import load_from_disk\n",
    "from bertopic.representation import VisualRepresentation\n",
    "import pandas as pd\n",
    "from sklearn.feature_extraction import text"
   ]
  },
  {
   "cell_type": "code",
   "execution_count": 11,
   "metadata": {},
   "outputs": [],
   "source": [
    "def remove_links(text):\n",
    "    # Remove links starting with 'https' or 'http'\n",
    "    text_without_links = re.sub(r'https?\\S+', '', text)\n",
    "    return text_without_links\n",
    "\n",
    "def extract_text_from_csv(csv_file):\n",
    "    texts = []                                              # Create an empty list to store texts\n",
    "    ids = []                                                # Create an empty list to store tweet IDs\n",
    "    with open(csv_file, 'r', encoding='utf-8-sig') as file: # Open the CSV file in read mode\n",
    "        reader = csv.DictReader(file)                       # Create a CSV reader object\n",
    "        for row in reader:                                  # Iterate through each row in the CSV file\n",
    "            text = row['text']                              # Get the value of the 'text' column in the current row\n",
    "            id = row['tweet_id']                            # Get the value of the 'tweet_id' column in the current row\n",
    "            url = row['url']\n",
    "            if text != '':                                  # Check if the text is not empty\n",
    "                if url != '':                               # Check if url is not empty\n",
    "                    cleaned = remove_links(text)            # Clean the text of links\n",
    "                    texts.append(cleaned)                   # Add the text to the 'texts' list\n",
    "                    ids.append(id)                          # Add the tweet ID to the 'ids' list\n",
    "    return texts, ids                                       # Return the 'texts' list and the 'ids' list as a tuple"
   ]
  },
  {
   "cell_type": "code",
   "execution_count": 112,
   "metadata": {},
   "outputs": [
    {
     "name": "stdout",
     "output_type": "stream",
     "text": [
      "4756\n"
     ]
    }
   ],
   "source": [
    "#TEXTS, IDS = extract_text_from_csv('twitter_BC_AB_wildfires_apr-jun2023_5,478.csv')\n",
    "#TEXTS, IDS = extract_text_from_csv('ottawa_tornado_2018~10,009.csv')\n",
    "#TEXTS, IDS = extract_text_from_csv('ottawa_storm_2022~9945.csv')\n",
    "TEXTS, IDS = extract_text_from_csv('NS_wildfire_2023~10,017.csv')\n",
    "print(len(TEXTS))"
   ]
  },
  {
   "cell_type": "code",
   "execution_count": 118,
   "metadata": {},
   "outputs": [],
   "source": [
    "#dataset_name = 'twitter_BC_AB_wildfires_apr-jun2023_5,478(dataset)'\n",
    "#dataset_name = 'ottawa_tornado_2018~10,009(dataset)'\n",
    "#dataset_name = 'ottawa_storm_2022~9945(dataset)'\n",
    "dataset_name = 'NS_wildfire_2023~10,017(dataset)'\n",
    "#model_name = 'twitter_BC_AB_wildfires_apr-jun2023_5,478(text_model3)'\n",
    "#model_name = 'ottawa_tornado_2018~10,009(text_model3)'\n",
    "#model_name = 'ottawa_storm_2022~9945(text_model3)'\n",
    "model_name = 'NS_wildfire_2023~10,017(text_model3)'"
   ]
  },
  {
   "cell_type": "code",
   "execution_count": 114,
   "metadata": {},
   "outputs": [
    {
     "name": "stdout",
     "output_type": "stream",
     "text": [
      "5737\n"
     ]
    }
   ],
   "source": [
    "loaded_dataset = load_from_disk(dataset_name)\n",
    "docs = loaded_dataset[\"text\"]\n",
    "print(len(docs))"
   ]
  },
  {
   "cell_type": "code",
   "execution_count": null,
   "metadata": {},
   "outputs": [],
   "source": [
    "default_stop_words = text.ENGLISH_STOP_WORDS\n",
    "vectorizer_model = CountVectorizer(ngram_range=(1, 2), stop_words=default_stop_words) #\"english\")\n",
    "\n",
    "topic_model = BERTopic(\n",
    "    #verbose=True,\n",
    "    vectorizer_model = vectorizer_model,\n",
    "    language = 'english', \n",
    "    calculate_probabilities = True,\n",
    "    nr_topics = 35\n",
    "    )"
   ]
  },
  {
   "cell_type": "code",
   "execution_count": 41,
   "metadata": {},
   "outputs": [],
   "source": [
    "topics, probs = topic_model.fit_transform(docs)"
   ]
  },
  {
   "cell_type": "code",
   "execution_count": 43,
   "metadata": {},
   "outputs": [],
   "source": [
    "topic_model.save(model_name, serialization=\"safetensors\")"
   ]
  },
  {
   "cell_type": "code",
   "execution_count": 119,
   "metadata": {},
   "outputs": [],
   "source": [
    "topic_model = BERTopic.load(model_name)"
   ]
  },
  {
   "cell_type": "code",
   "execution_count": 120,
   "metadata": {},
   "outputs": [
    {
     "data": {
      "text/html": [
       "<div>\n",
       "<style scoped>\n",
       "    .dataframe tbody tr th:only-of-type {\n",
       "        vertical-align: middle;\n",
       "    }\n",
       "\n",
       "    .dataframe tbody tr th {\n",
       "        vertical-align: top;\n",
       "    }\n",
       "\n",
       "    .dataframe thead th {\n",
       "        text-align: right;\n",
       "    }\n",
       "</style>\n",
       "<table border=\"1\" class=\"dataframe\">\n",
       "  <thead>\n",
       "    <tr style=\"text-align: right;\">\n",
       "      <th></th>\n",
       "      <th>Topic</th>\n",
       "      <th>Count</th>\n",
       "      <th>Name</th>\n",
       "      <th>Representation</th>\n",
       "    </tr>\n",
       "  </thead>\n",
       "  <tbody>\n",
       "    <tr>\n",
       "      <th>0</th>\n",
       "      <td>-1</td>\n",
       "      <td>2066</td>\n",
       "      <td>-1_wildfires_wildfire_smoke_amp</td>\n",
       "      <td>[wildfires, wildfire, smoke, amp, canada, albe...</td>\n",
       "    </tr>\n",
       "    <tr>\n",
       "      <th>1</th>\n",
       "      <td>0</td>\n",
       "      <td>767</td>\n",
       "      <td>0_smoke_wildfires_alberta_canada</td>\n",
       "      <td>[smoke, wildfires, alberta, canada, wildfire, ...</td>\n",
       "    </tr>\n",
       "    <tr>\n",
       "      <th>2</th>\n",
       "      <td>1</td>\n",
       "      <td>702</td>\n",
       "      <td>1_wildfire_wildfires_amp_new</td>\n",
       "      <td>[wildfire, wildfires, amp, new, home, forest, ...</td>\n",
       "    </tr>\n",
       "    <tr>\n",
       "      <th>3</th>\n",
       "      <td>2</td>\n",
       "      <td>695</td>\n",
       "      <td>2_sk wildfire_update detected_info sk_wildfire...</td>\n",
       "      <td>[sk wildfire, update detected, info sk, wildfi...</td>\n",
       "    </tr>\n",
       "    <tr>\n",
       "      <th>4</th>\n",
       "      <td>3</td>\n",
       "      <td>237</td>\n",
       "      <td>3_halifax_tantallon_nsfire_novascotia</td>\n",
       "      <td>[halifax, tantallon, nsfire, novascotia, nova,...</td>\n",
       "    </tr>\n",
       "    <tr>\n",
       "      <th>5</th>\n",
       "      <td>4</td>\n",
       "      <td>112</td>\n",
       "      <td>4_wildfires_climatechange_spain_hectares</td>\n",
       "      <td>[wildfires, climatechange, spain, hectares, cl...</td>\n",
       "    </tr>\n",
       "    <tr>\n",
       "      <th>6</th>\n",
       "      <td>5</td>\n",
       "      <td>110</td>\n",
       "      <td>5_alberta_canada_wildfires_acres</td>\n",
       "      <td>[alberta, canada, wildfires, acres, province, ...</td>\n",
       "    </tr>\n",
       "    <tr>\n",
       "      <th>7</th>\n",
       "      <td>6</td>\n",
       "      <td>99</td>\n",
       "      <td>6_water_drone_hotshots_aircraft</td>\n",
       "      <td>[water, drone, hotshots, aircraft, hotshot, av...</td>\n",
       "    </tr>\n",
       "    <tr>\n",
       "      <th>8</th>\n",
       "      <td>7</td>\n",
       "      <td>88</td>\n",
       "      <td>7_air_smoke_wildfire smoke_health</td>\n",
       "      <td>[air, smoke, wildfire smoke, health, airqualit...</td>\n",
       "    </tr>\n",
       "    <tr>\n",
       "      <th>9</th>\n",
       "      <td>8</td>\n",
       "      <td>85</td>\n",
       "      <td>8_nsfire_nsfires_novascotia nsfires_shelburne</td>\n",
       "      <td>[nsfire, nsfires, novascotia nsfires, shelburn...</td>\n",
       "    </tr>\n",
       "    <tr>\n",
       "      <th>10</th>\n",
       "      <td>9</td>\n",
       "      <td>76</td>\n",
       "      <td>9_russia_sentinel2_copernicuseu_data</td>\n",
       "      <td>[russia, sentinel2, copernicuseu, data, siberi...</td>\n",
       "    </tr>\n",
       "    <tr>\n",
       "      <th>11</th>\n",
       "      <td>10</td>\n",
       "      <td>72</td>\n",
       "      <td>10_origin_spiderverse_origin nsfire_oriele</td>\n",
       "      <td>[origin, spiderverse, origin nsfire, oriele, a...</td>\n",
       "    </tr>\n",
       "    <tr>\n",
       "      <th>12</th>\n",
       "      <td>11</td>\n",
       "      <td>67</td>\n",
       "      <td>11_shelburne county_shelburne_barrington_barri...</td>\n",
       "      <td>[shelburne county, shelburne, barrington, barr...</td>\n",
       "    </tr>\n",
       "    <tr>\n",
       "      <th>13</th>\n",
       "      <td>12</td>\n",
       "      <td>61</td>\n",
       "      <td>12_800am_15_burn_burning</td>\n",
       "      <td>[800am, 15, burn, burning, permitted, 200pm, d...</td>\n",
       "    </tr>\n",
       "    <tr>\n",
       "      <th>14</th>\n",
       "      <td>13</td>\n",
       "      <td>60</td>\n",
       "      <td>13_volunteers_thank_nsfire_donate</td>\n",
       "      <td>[volunteers, thank, nsfire, donate, redcrossca...</td>\n",
       "    </tr>\n",
       "    <tr>\n",
       "      <th>15</th>\n",
       "      <td>14</td>\n",
       "      <td>55</td>\n",
       "      <td>14_countygp_yqu_gpab_mdgreenview</td>\n",
       "      <td>[countygp, yqu, gpab, mdgreenview, yqu grandep...</td>\n",
       "    </tr>\n",
       "    <tr>\n",
       "      <th>16</th>\n",
       "      <td>15</td>\n",
       "      <td>46</td>\n",
       "      <td>15_walk_just_went_ago</td>\n",
       "      <td>[walk, just, went, ago, cinnamon, cats, cat, r...</td>\n",
       "    </tr>\n",
       "    <tr>\n",
       "      <th>17</th>\n",
       "      <td>16</td>\n",
       "      <td>36</td>\n",
       "      <td>16_losrios_biobio_incendio_villaalemana</td>\n",
       "      <td>[losrios, biobio, incendio, villaalemana, bush...</td>\n",
       "    </tr>\n",
       "    <tr>\n",
       "      <th>18</th>\n",
       "      <td>17</td>\n",
       "      <td>35</td>\n",
       "      <td>17_insurance_insurance questions_questions_nspoli</td>\n",
       "      <td>[insurance, insurance questions, questions, ns...</td>\n",
       "    </tr>\n",
       "    <tr>\n",
       "      <th>19</th>\n",
       "      <td>18</td>\n",
       "      <td>27</td>\n",
       "      <td>18_15_current_new wildfires_nova scotia</td>\n",
       "      <td>[15, current, new wildfires, nova scotia, scot...</td>\n",
       "    </tr>\n",
       "    <tr>\n",
       "      <th>20</th>\n",
       "      <td>19</td>\n",
       "      <td>24</td>\n",
       "      <td>19_ias_volcaniceruption agriculture_agricultur...</td>\n",
       "      <td>[ias, volcaniceruption agriculture, agricultur...</td>\n",
       "    </tr>\n",
       "    <tr>\n",
       "      <th>21</th>\n",
       "      <td>20</td>\n",
       "      <td>24</td>\n",
       "      <td>20_thief_thief night_night_thunder thief</td>\n",
       "      <td>[thief, thief night, night, thunder thief, dis...</td>\n",
       "    </tr>\n",
       "    <tr>\n",
       "      <th>22</th>\n",
       "      <td>21</td>\n",
       "      <td>23</td>\n",
       "      <td>21_honkaistarrail_minecraft_night_wildfire</td>\n",
       "      <td>[honkaistarrail, minecraft, night, wildfire, t...</td>\n",
       "    </tr>\n",
       "    <tr>\n",
       "      <th>23</th>\n",
       "      <td>22</td>\n",
       "      <td>21</td>\n",
       "      <td>22_et_xprizewildfire launch_hiltonfound incent...</td>\n",
       "      <td>[et, xprizewildfire launch, hiltonfound incent...</td>\n",
       "    </tr>\n",
       "    <tr>\n",
       "      <th>24</th>\n",
       "      <td>23</td>\n",
       "      <td>21</td>\n",
       "      <td>23_games_preventwildfiresms_msforestry_game</td>\n",
       "      <td>[games, preventwildfiresms, msforestry, game, ...</td>\n",
       "    </tr>\n",
       "    <tr>\n",
       "      <th>25</th>\n",
       "      <td>24</td>\n",
       "      <td>19</td>\n",
       "      <td>24_lp_lp7_weatherchannel_capitalweather</td>\n",
       "      <td>[lp, lp7, weatherchannel, capitalweather, sunr...</td>\n",
       "    </tr>\n",
       "    <tr>\n",
       "      <th>26</th>\n",
       "      <td>25</td>\n",
       "      <td>16</td>\n",
       "      <td>25_ingested hdds_ingested_hdds event_hdds</td>\n",
       "      <td>[ingested hdds, ingested, hdds event, hdds, 20...</td>\n",
       "    </tr>\n",
       "    <tr>\n",
       "      <th>27</th>\n",
       "      <td>26</td>\n",
       "      <td>14</td>\n",
       "      <td>26_claim_insurance_youre_make</td>\n",
       "      <td>[claim, insurance, youre, make, affected, your...</td>\n",
       "    </tr>\n",
       "    <tr>\n",
       "      <th>28</th>\n",
       "      <td>27</td>\n",
       "      <td>13</td>\n",
       "      <td>27_croatan_croatan nf_great lake_ripping croatan</td>\n",
       "      <td>[croatan, croatan nf, great lake, ripping croa...</td>\n",
       "    </tr>\n",
       "    <tr>\n",
       "      <th>29</th>\n",
       "      <td>28</td>\n",
       "      <td>12</td>\n",
       "      <td>28_natural bridge_naturalbridge_ky_kywx</td>\n",
       "      <td>[natural bridge, naturalbridge, ky, kywx, brid...</td>\n",
       "    </tr>\n",
       "    <tr>\n",
       "      <th>30</th>\n",
       "      <td>29</td>\n",
       "      <td>12</td>\n",
       "      <td>29_administrator_usfire administrator_usfire_l...</td>\n",
       "      <td>[administrator, usfire administrator, usfire, ...</td>\n",
       "    </tr>\n",
       "    <tr>\n",
       "      <th>31</th>\n",
       "      <td>30</td>\n",
       "      <td>11</td>\n",
       "      <td>30_wa_fireweather ewnalerts_weather warning_ew...</td>\n",
       "      <td>[wa, fireweather ewnalerts, weather warning, e...</td>\n",
       "    </tr>\n",
       "    <tr>\n",
       "      <th>32</th>\n",
       "      <td>31</td>\n",
       "      <td>11</td>\n",
       "      <td>31_aqhi_paza_aqhi reading_beaverlodge</td>\n",
       "      <td>[aqhi, paza, aqhi reading, beaverlodge, readin...</td>\n",
       "    </tr>\n",
       "    <tr>\n",
       "      <th>33</th>\n",
       "      <td>32</td>\n",
       "      <td>10</td>\n",
       "      <td>32_birds_fireprone_sample_ecology class</td>\n",
       "      <td>[birds, fireprone, sample, ecology class, ecol...</td>\n",
       "    </tr>\n",
       "    <tr>\n",
       "      <th>34</th>\n",
       "      <td>33</td>\n",
       "      <td>10</td>\n",
       "      <td>33_tantallonfire_tantallon_nsfire_nsfire tanta...</td>\n",
       "      <td>[tantallonfire, tantallon, nsfire, nsfire tant...</td>\n",
       "    </tr>\n",
       "  </tbody>\n",
       "</table>\n",
       "</div>"
      ],
      "text/plain": [
       "    Topic  Count                                               Name  \\\n",
       "0      -1   2066                    -1_wildfires_wildfire_smoke_amp   \n",
       "1       0    767                   0_smoke_wildfires_alberta_canada   \n",
       "2       1    702                       1_wildfire_wildfires_amp_new   \n",
       "3       2    695  2_sk wildfire_update detected_info sk_wildfire...   \n",
       "4       3    237              3_halifax_tantallon_nsfire_novascotia   \n",
       "5       4    112           4_wildfires_climatechange_spain_hectares   \n",
       "6       5    110                   5_alberta_canada_wildfires_acres   \n",
       "7       6     99                    6_water_drone_hotshots_aircraft   \n",
       "8       7     88                  7_air_smoke_wildfire smoke_health   \n",
       "9       8     85      8_nsfire_nsfires_novascotia nsfires_shelburne   \n",
       "10      9     76               9_russia_sentinel2_copernicuseu_data   \n",
       "11     10     72         10_origin_spiderverse_origin nsfire_oriele   \n",
       "12     11     67  11_shelburne county_shelburne_barrington_barri...   \n",
       "13     12     61                           12_800am_15_burn_burning   \n",
       "14     13     60                  13_volunteers_thank_nsfire_donate   \n",
       "15     14     55                   14_countygp_yqu_gpab_mdgreenview   \n",
       "16     15     46                              15_walk_just_went_ago   \n",
       "17     16     36            16_losrios_biobio_incendio_villaalemana   \n",
       "18     17     35  17_insurance_insurance questions_questions_nspoli   \n",
       "19     18     27            18_15_current_new wildfires_nova scotia   \n",
       "20     19     24  19_ias_volcaniceruption agriculture_agricultur...   \n",
       "21     20     24           20_thief_thief night_night_thunder thief   \n",
       "22     21     23         21_honkaistarrail_minecraft_night_wildfire   \n",
       "23     22     21  22_et_xprizewildfire launch_hiltonfound incent...   \n",
       "24     23     21        23_games_preventwildfiresms_msforestry_game   \n",
       "25     24     19            24_lp_lp7_weatherchannel_capitalweather   \n",
       "26     25     16          25_ingested hdds_ingested_hdds event_hdds   \n",
       "27     26     14                      26_claim_insurance_youre_make   \n",
       "28     27     13   27_croatan_croatan nf_great lake_ripping croatan   \n",
       "29     28     12            28_natural bridge_naturalbridge_ky_kywx   \n",
       "30     29     12  29_administrator_usfire administrator_usfire_l...   \n",
       "31     30     11  30_wa_fireweather ewnalerts_weather warning_ew...   \n",
       "32     31     11              31_aqhi_paza_aqhi reading_beaverlodge   \n",
       "33     32     10            32_birds_fireprone_sample_ecology class   \n",
       "34     33     10  33_tantallonfire_tantallon_nsfire_nsfire tanta...   \n",
       "\n",
       "                                       Representation  \n",
       "0   [wildfires, wildfire, smoke, amp, canada, albe...  \n",
       "1   [smoke, wildfires, alberta, canada, wildfire, ...  \n",
       "2   [wildfire, wildfires, amp, new, home, forest, ...  \n",
       "3   [sk wildfire, update detected, info sk, wildfi...  \n",
       "4   [halifax, tantallon, nsfire, novascotia, nova,...  \n",
       "5   [wildfires, climatechange, spain, hectares, cl...  \n",
       "6   [alberta, canada, wildfires, acres, province, ...  \n",
       "7   [water, drone, hotshots, aircraft, hotshot, av...  \n",
       "8   [air, smoke, wildfire smoke, health, airqualit...  \n",
       "9   [nsfire, nsfires, novascotia nsfires, shelburn...  \n",
       "10  [russia, sentinel2, copernicuseu, data, siberi...  \n",
       "11  [origin, spiderverse, origin nsfire, oriele, a...  \n",
       "12  [shelburne county, shelburne, barrington, barr...  \n",
       "13  [800am, 15, burn, burning, permitted, 200pm, d...  \n",
       "14  [volunteers, thank, nsfire, donate, redcrossca...  \n",
       "15  [countygp, yqu, gpab, mdgreenview, yqu grandep...  \n",
       "16  [walk, just, went, ago, cinnamon, cats, cat, r...  \n",
       "17  [losrios, biobio, incendio, villaalemana, bush...  \n",
       "18  [insurance, insurance questions, questions, ns...  \n",
       "19  [15, current, new wildfires, nova scotia, scot...  \n",
       "20  [ias, volcaniceruption agriculture, agricultur...  \n",
       "21  [thief, thief night, night, thunder thief, dis...  \n",
       "22  [honkaistarrail, minecraft, night, wildfire, t...  \n",
       "23  [et, xprizewildfire launch, hiltonfound incent...  \n",
       "24  [games, preventwildfiresms, msforestry, game, ...  \n",
       "25  [lp, lp7, weatherchannel, capitalweather, sunr...  \n",
       "26  [ingested hdds, ingested, hdds event, hdds, 20...  \n",
       "27  [claim, insurance, youre, make, affected, your...  \n",
       "28  [croatan, croatan nf, great lake, ripping croa...  \n",
       "29  [natural bridge, naturalbridge, ky, kywx, brid...  \n",
       "30  [administrator, usfire administrator, usfire, ...  \n",
       "31  [wa, fireweather ewnalerts, weather warning, e...  \n",
       "32  [aqhi, paza, aqhi reading, beaverlodge, readin...  \n",
       "33  [birds, fireprone, sample, ecology class, ecol...  \n",
       "34  [tantallonfire, tantallon, nsfire, nsfire tant...  "
      ]
     },
     "execution_count": 120,
     "metadata": {},
     "output_type": "execute_result"
    }
   ],
   "source": [
    "topic_model.get_topic_info().drop('Representative_Docs',1)"
   ]
  },
  {
   "cell_type": "code",
   "execution_count": null,
   "metadata": {},
   "outputs": [],
   "source": [
    "topic_model.visualize_hierarchy()"
   ]
  },
  {
   "cell_type": "code",
   "execution_count": null,
   "metadata": {},
   "outputs": [],
   "source": [
    "hier = topic_model.hierarchical_topics(TEXTS)\n",
    "tree = topic_model.get_topic_tree(hier)\n",
    "print(tree)"
   ]
  },
  {
   "cell_type": "code",
   "execution_count": 23,
   "metadata": {},
   "outputs": [],
   "source": [
    "topic_distr, _ = topic_model.approximate_distribution(TEXTS)"
   ]
  },
  {
   "cell_type": "code",
   "execution_count": null,
   "metadata": {},
   "outputs": [],
   "source": [
    "topic_model.visualize_distribution(topic_distr[1])"
   ]
  },
  {
   "cell_type": "code",
   "execution_count": 10,
   "metadata": {},
   "outputs": [
    {
     "data": {
      "application/vnd.plotly.v1+json": {
       "config": {
        "plotlyServerURL": "https://plot.ly"
       },
       "data": [
        {
         "hoverinfo": "text",
         "marker": {
          "color": "rgb(61,153,112)"
         },
         "mode": "lines",
         "type": "scatter",
         "x": [
          0,
          0.8886957015423993,
          0.8886957015423993,
          0
         ],
         "xaxis": "x",
         "y": [
          -15,
          -15,
          -25,
          -25
         ],
         "yaxis": "y"
        },
        {
         "hoverinfo": "text",
         "marker": {
          "color": "rgb(61,153,112)"
         },
         "mode": "lines",
         "type": "scatter",
         "x": [
          0,
          0.9720149880824995,
          0.9720149880824995,
          0.8886957015423993
         ],
         "xaxis": "x",
         "y": [
          -5,
          -5,
          -20,
          -20
         ],
         "yaxis": "y"
        },
        {
         "hoverinfo": "text",
         "marker": {
          "color": "rgb(61,153,112)"
         },
         "mode": "lines",
         "type": "scatter",
         "x": [
          0.9720149880824995,
          0.9903352736770673,
          0.9903352736770673,
          0
         ],
         "xaxis": "x",
         "y": [
          -12.5,
          -12.5,
          -35,
          -35
         ],
         "yaxis": "y"
        },
        {
         "hoverinfo": "text",
         "marker": {
          "color": "rgb(255,65,54)"
         },
         "mode": "lines",
         "type": "scatter",
         "x": [
          0,
          0.9942738488714133,
          0.9942738488714133,
          0
         ],
         "xaxis": "x",
         "y": [
          -45,
          -45,
          -55,
          -55
         ],
         "yaxis": "y"
        },
        {
         "hoverinfo": "text",
         "marker": {
          "color": "rgb(0,116,217)"
         },
         "mode": "lines",
         "type": "scatter",
         "x": [
          0.9903352736770673,
          1.0044023684504315,
          1.0044023684504315,
          0.9942738488714133
         ],
         "xaxis": "x",
         "y": [
          -23.75,
          -23.75,
          -50,
          -50
         ],
         "yaxis": "y"
        },
        {
         "hoverinfo": "text",
         "marker": {
          "color": "rgb(35,205,205)"
         },
         "mode": "lines",
         "type": "scatter",
         "x": [
          0,
          0.9616326856379277,
          0.9616326856379277,
          0
         ],
         "xaxis": "x",
         "y": [
          -75,
          -75,
          -85,
          -85
         ],
         "yaxis": "y"
        },
        {
         "hoverinfo": "text",
         "marker": {
          "color": "rgb(35,205,205)"
         },
         "mode": "lines",
         "type": "scatter",
         "x": [
          0,
          0.9809471951564971,
          0.9809471951564971,
          0.9616326856379277
         ],
         "xaxis": "x",
         "y": [
          -65,
          -65,
          -80,
          -80
         ],
         "yaxis": "y"
        },
        {
         "hoverinfo": "text",
         "marker": {
          "color": "rgb(133,20,75)"
         },
         "mode": "lines",
         "type": "scatter",
         "x": [
          0,
          0.9418539636804341,
          0.9418539636804341,
          0
         ],
         "xaxis": "x",
         "y": [
          -105,
          -105,
          -115,
          -115
         ],
         "yaxis": "y"
        },
        {
         "hoverinfo": "text",
         "marker": {
          "color": "rgb(133,20,75)"
         },
         "mode": "lines",
         "type": "scatter",
         "x": [
          0,
          0.9915494471605617,
          0.9915494471605617,
          0.9418539636804341
         ],
         "xaxis": "x",
         "y": [
          -95,
          -95,
          -110,
          -110
         ],
         "yaxis": "y"
        },
        {
         "hoverinfo": "text",
         "marker": {
          "color": "rgb(255,220,0)"
         },
         "mode": "lines",
         "type": "scatter",
         "x": [
          0,
          0.9986357523094913,
          0.9986357523094913,
          0
         ],
         "xaxis": "x",
         "y": [
          -125,
          -125,
          -135,
          -135
         ],
         "yaxis": "y"
        },
        {
         "hoverinfo": "text",
         "marker": {
          "color": "rgb(0,116,217)"
         },
         "mode": "lines",
         "type": "scatter",
         "x": [
          0.9915494471605617,
          1.002427374611017,
          1.002427374611017,
          0.9986357523094913
         ],
         "xaxis": "x",
         "y": [
          -102.5,
          -102.5,
          -130,
          -130
         ],
         "yaxis": "y"
        },
        {
         "hoverinfo": "text",
         "marker": {
          "color": "rgb(0,116,217)"
         },
         "mode": "lines",
         "type": "scatter",
         "x": [
          0.9809471951564971,
          1.0161632882072196,
          1.0161632882072196,
          1.002427374611017
         ],
         "xaxis": "x",
         "y": [
          -72.5,
          -72.5,
          -116.25,
          -116.25
         ],
         "yaxis": "y"
        },
        {
         "hoverinfo": "text",
         "marker": {
          "color": "rgb(40,35,35)"
         },
         "mode": "lines",
         "type": "scatter",
         "x": [
          0,
          0.9376926379660269,
          0.9376926379660269,
          0
         ],
         "xaxis": "x",
         "y": [
          -165,
          -165,
          -175,
          -175
         ],
         "yaxis": "y"
        },
        {
         "hoverinfo": "text",
         "marker": {
          "color": "rgb(40,35,35)"
         },
         "mode": "lines",
         "type": "scatter",
         "x": [
          0,
          0.9627672192125138,
          0.9627672192125138,
          0.9376926379660269
         ],
         "xaxis": "x",
         "y": [
          -155,
          -155,
          -170,
          -170
         ],
         "yaxis": "y"
        },
        {
         "hoverinfo": "text",
         "marker": {
          "color": "rgb(40,35,35)"
         },
         "mode": "lines",
         "type": "scatter",
         "x": [
          0.9627672192125138,
          0.9728955614123926,
          0.9728955614123926,
          0
         ],
         "xaxis": "x",
         "y": [
          -162.5,
          -162.5,
          -185,
          -185
         ],
         "yaxis": "y"
        },
        {
         "hoverinfo": "text",
         "marker": {
          "color": "rgb(40,35,35)"
         },
         "mode": "lines",
         "type": "scatter",
         "x": [
          0,
          0.9761882169833269,
          0.9761882169833269,
          0.9728955614123926
         ],
         "xaxis": "x",
         "y": [
          -145,
          -145,
          -173.75,
          -173.75
         ],
         "yaxis": "y"
        },
        {
         "hoverinfo": "text",
         "marker": {
          "color": "rgb(61,153,112)"
         },
         "mode": "lines",
         "type": "scatter",
         "x": [
          0,
          0.9634937955428635,
          0.9634937955428635,
          0
         ],
         "xaxis": "x",
         "y": [
          -195,
          -195,
          -205,
          -205
         ],
         "yaxis": "y"
        },
        {
         "hoverinfo": "text",
         "marker": {
          "color": "rgb(61,153,112)"
         },
         "mode": "lines",
         "type": "scatter",
         "x": [
          0.9634937955428635,
          0.9706833146318822,
          0.9706833146318822,
          0
         ],
         "xaxis": "x",
         "y": [
          -200,
          -200,
          -215,
          -215
         ],
         "yaxis": "y"
        },
        {
         "hoverinfo": "text",
         "marker": {
          "color": "rgb(0,116,217)"
         },
         "mode": "lines",
         "type": "scatter",
         "x": [
          0.9761882169833269,
          1.00387845721107,
          1.00387845721107,
          0.9706833146318822
         ],
         "xaxis": "x",
         "y": [
          -159.375,
          -159.375,
          -207.5,
          -207.5
         ],
         "yaxis": "y"
        },
        {
         "hoverinfo": "text",
         "marker": {
          "color": "rgb(0,116,217)"
         },
         "mode": "lines",
         "type": "scatter",
         "x": [
          1.0161632882072196,
          1.0237829526943618,
          1.0237829526943618,
          1.00387845721107
         ],
         "xaxis": "x",
         "y": [
          -94.375,
          -94.375,
          -183.4375,
          -183.4375
         ],
         "yaxis": "y"
        },
        {
         "hoverinfo": "text",
         "marker": {
          "color": "rgb(255,65,54)"
         },
         "mode": "lines",
         "type": "scatter",
         "x": [
          0,
          0.9192652649238094,
          0.9192652649238094,
          0
         ],
         "xaxis": "x",
         "y": [
          -225,
          -225,
          -235,
          -235
         ],
         "yaxis": "y"
        },
        {
         "hoverinfo": "text",
         "marker": {
          "color": "rgb(255,65,54)"
         },
         "mode": "lines",
         "type": "scatter",
         "x": [
          0.9192652649238094,
          0.971816144534445,
          0.971816144534445,
          0
         ],
         "xaxis": "x",
         "y": [
          -230,
          -230,
          -245,
          -245
         ],
         "yaxis": "y"
        },
        {
         "hoverinfo": "text",
         "marker": {
          "color": "rgb(0,116,217)"
         },
         "mode": "lines",
         "type": "scatter",
         "x": [
          1.0237829526943618,
          1.0488894004275588,
          1.0488894004275588,
          0.971816144534445
         ],
         "xaxis": "x",
         "y": [
          -138.90625,
          -138.90625,
          -237.5,
          -237.5
         ],
         "yaxis": "y"
        },
        {
         "hoverinfo": "text",
         "marker": {
          "color": "rgb(0,116,217)"
         },
         "mode": "lines",
         "type": "scatter",
         "x": [
          1.0044023684504315,
          1.1195216244930875,
          1.1195216244930875,
          1.0488894004275588
         ],
         "xaxis": "x",
         "y": [
          -36.875,
          -36.875,
          -188.203125,
          -188.203125
         ],
         "yaxis": "y"
        },
        {
         "hoverinfo": "text",
         "marker": {
          "color": "rgb(35,205,205)"
         },
         "mode": "lines",
         "type": "scatter",
         "x": [
          0,
          0.784704736637627,
          0.784704736637627,
          0
         ],
         "xaxis": "x",
         "y": [
          -265,
          -265,
          -275,
          -275
         ],
         "yaxis": "y"
        },
        {
         "hoverinfo": "text",
         "marker": {
          "color": "rgb(35,205,205)"
         },
         "mode": "lines",
         "type": "scatter",
         "x": [
          0,
          0.8867295608098598,
          0.8867295608098598,
          0.784704736637627
         ],
         "xaxis": "x",
         "y": [
          -255,
          -255,
          -270,
          -270
         ],
         "yaxis": "y"
        },
        {
         "hoverinfo": "text",
         "marker": {
          "color": "rgb(61,153,112)"
         },
         "mode": "lines",
         "type": "scatter",
         "x": [
          0,
          0.7800956771556988,
          0.7800956771556988,
          0
         ],
         "xaxis": "x",
         "y": [
          -295,
          -295,
          -305,
          -305
         ],
         "yaxis": "y"
        },
        {
         "hoverinfo": "text",
         "marker": {
          "color": "rgb(61,153,112)"
         },
         "mode": "lines",
         "type": "scatter",
         "x": [
          0.7800956771556988,
          0.8848235710778064,
          0.8848235710778064,
          0
         ],
         "xaxis": "x",
         "y": [
          -300,
          -300,
          -315,
          -315
         ],
         "yaxis": "y"
        },
        {
         "hoverinfo": "text",
         "marker": {
          "color": "rgb(61,153,112)"
         },
         "mode": "lines",
         "type": "scatter",
         "x": [
          0,
          0.932768814112789,
          0.932768814112789,
          0.8848235710778064
         ],
         "xaxis": "x",
         "y": [
          -285,
          -285,
          -307.5,
          -307.5
         ],
         "yaxis": "y"
        },
        {
         "hoverinfo": "text",
         "marker": {
          "color": "rgb(255,65,54)"
         },
         "mode": "lines",
         "type": "scatter",
         "x": [
          0,
          0.6290589408537552,
          0.6290589408537552,
          0
         ],
         "xaxis": "x",
         "y": [
          -325,
          -325,
          -335,
          -335
         ],
         "yaxis": "y"
        },
        {
         "hoverinfo": "text",
         "marker": {
          "color": "rgb(0,116,217)"
         },
         "mode": "lines",
         "type": "scatter",
         "x": [
          0.932768814112789,
          1.0335874763096122,
          1.0335874763096122,
          0.6290589408537552
         ],
         "xaxis": "x",
         "y": [
          -296.25,
          -296.25,
          -330,
          -330
         ],
         "yaxis": "y"
        },
        {
         "hoverinfo": "text",
         "marker": {
          "color": "rgb(0,116,217)"
         },
         "mode": "lines",
         "type": "scatter",
         "x": [
          0.8867295608098598,
          1.1233488880557172,
          1.1233488880557172,
          1.0335874763096122
         ],
         "xaxis": "x",
         "y": [
          -262.5,
          -262.5,
          -313.125,
          -313.125
         ],
         "yaxis": "y"
        },
        {
         "hoverinfo": "text",
         "marker": {
          "color": "rgb(0,116,217)"
         },
         "mode": "lines",
         "type": "scatter",
         "x": [
          1.1195216244930875,
          1.2162254402400001,
          1.2162254402400001,
          1.1233488880557172
         ],
         "xaxis": "x",
         "y": [
          -112.5390625,
          -112.5390625,
          -287.8125,
          -287.8125
         ],
         "yaxis": "y"
        }
       ],
       "layout": {
        "autosize": false,
        "height": 710,
        "hoverlabel": {
         "bgcolor": "white",
         "font": {
          "family": "Rockwell",
          "size": 16
         }
        },
        "hovermode": "closest",
        "plot_bgcolor": "#ECEFF1",
        "showlegend": false,
        "template": {
         "data": {
          "bar": [
           {
            "error_x": {
             "color": "#2a3f5f"
            },
            "error_y": {
             "color": "#2a3f5f"
            },
            "marker": {
             "line": {
              "color": "white",
              "width": 0.5
             },
             "pattern": {
              "fillmode": "overlay",
              "size": 10,
              "solidity": 0.2
             }
            },
            "type": "bar"
           }
          ],
          "barpolar": [
           {
            "marker": {
             "line": {
              "color": "white",
              "width": 0.5
             },
             "pattern": {
              "fillmode": "overlay",
              "size": 10,
              "solidity": 0.2
             }
            },
            "type": "barpolar"
           }
          ],
          "carpet": [
           {
            "aaxis": {
             "endlinecolor": "#2a3f5f",
             "gridcolor": "#C8D4E3",
             "linecolor": "#C8D4E3",
             "minorgridcolor": "#C8D4E3",
             "startlinecolor": "#2a3f5f"
            },
            "baxis": {
             "endlinecolor": "#2a3f5f",
             "gridcolor": "#C8D4E3",
             "linecolor": "#C8D4E3",
             "minorgridcolor": "#C8D4E3",
             "startlinecolor": "#2a3f5f"
            },
            "type": "carpet"
           }
          ],
          "choropleth": [
           {
            "colorbar": {
             "outlinewidth": 0,
             "ticks": ""
            },
            "type": "choropleth"
           }
          ],
          "contour": [
           {
            "colorbar": {
             "outlinewidth": 0,
             "ticks": ""
            },
            "colorscale": [
             [
              0,
              "#0d0887"
             ],
             [
              0.1111111111111111,
              "#46039f"
             ],
             [
              0.2222222222222222,
              "#7201a8"
             ],
             [
              0.3333333333333333,
              "#9c179e"
             ],
             [
              0.4444444444444444,
              "#bd3786"
             ],
             [
              0.5555555555555556,
              "#d8576b"
             ],
             [
              0.6666666666666666,
              "#ed7953"
             ],
             [
              0.7777777777777778,
              "#fb9f3a"
             ],
             [
              0.8888888888888888,
              "#fdca26"
             ],
             [
              1,
              "#f0f921"
             ]
            ],
            "type": "contour"
           }
          ],
          "contourcarpet": [
           {
            "colorbar": {
             "outlinewidth": 0,
             "ticks": ""
            },
            "type": "contourcarpet"
           }
          ],
          "heatmap": [
           {
            "colorbar": {
             "outlinewidth": 0,
             "ticks": ""
            },
            "colorscale": [
             [
              0,
              "#0d0887"
             ],
             [
              0.1111111111111111,
              "#46039f"
             ],
             [
              0.2222222222222222,
              "#7201a8"
             ],
             [
              0.3333333333333333,
              "#9c179e"
             ],
             [
              0.4444444444444444,
              "#bd3786"
             ],
             [
              0.5555555555555556,
              "#d8576b"
             ],
             [
              0.6666666666666666,
              "#ed7953"
             ],
             [
              0.7777777777777778,
              "#fb9f3a"
             ],
             [
              0.8888888888888888,
              "#fdca26"
             ],
             [
              1,
              "#f0f921"
             ]
            ],
            "type": "heatmap"
           }
          ],
          "heatmapgl": [
           {
            "colorbar": {
             "outlinewidth": 0,
             "ticks": ""
            },
            "colorscale": [
             [
              0,
              "#0d0887"
             ],
             [
              0.1111111111111111,
              "#46039f"
             ],
             [
              0.2222222222222222,
              "#7201a8"
             ],
             [
              0.3333333333333333,
              "#9c179e"
             ],
             [
              0.4444444444444444,
              "#bd3786"
             ],
             [
              0.5555555555555556,
              "#d8576b"
             ],
             [
              0.6666666666666666,
              "#ed7953"
             ],
             [
              0.7777777777777778,
              "#fb9f3a"
             ],
             [
              0.8888888888888888,
              "#fdca26"
             ],
             [
              1,
              "#f0f921"
             ]
            ],
            "type": "heatmapgl"
           }
          ],
          "histogram": [
           {
            "marker": {
             "pattern": {
              "fillmode": "overlay",
              "size": 10,
              "solidity": 0.2
             }
            },
            "type": "histogram"
           }
          ],
          "histogram2d": [
           {
            "colorbar": {
             "outlinewidth": 0,
             "ticks": ""
            },
            "colorscale": [
             [
              0,
              "#0d0887"
             ],
             [
              0.1111111111111111,
              "#46039f"
             ],
             [
              0.2222222222222222,
              "#7201a8"
             ],
             [
              0.3333333333333333,
              "#9c179e"
             ],
             [
              0.4444444444444444,
              "#bd3786"
             ],
             [
              0.5555555555555556,
              "#d8576b"
             ],
             [
              0.6666666666666666,
              "#ed7953"
             ],
             [
              0.7777777777777778,
              "#fb9f3a"
             ],
             [
              0.8888888888888888,
              "#fdca26"
             ],
             [
              1,
              "#f0f921"
             ]
            ],
            "type": "histogram2d"
           }
          ],
          "histogram2dcontour": [
           {
            "colorbar": {
             "outlinewidth": 0,
             "ticks": ""
            },
            "colorscale": [
             [
              0,
              "#0d0887"
             ],
             [
              0.1111111111111111,
              "#46039f"
             ],
             [
              0.2222222222222222,
              "#7201a8"
             ],
             [
              0.3333333333333333,
              "#9c179e"
             ],
             [
              0.4444444444444444,
              "#bd3786"
             ],
             [
              0.5555555555555556,
              "#d8576b"
             ],
             [
              0.6666666666666666,
              "#ed7953"
             ],
             [
              0.7777777777777778,
              "#fb9f3a"
             ],
             [
              0.8888888888888888,
              "#fdca26"
             ],
             [
              1,
              "#f0f921"
             ]
            ],
            "type": "histogram2dcontour"
           }
          ],
          "mesh3d": [
           {
            "colorbar": {
             "outlinewidth": 0,
             "ticks": ""
            },
            "type": "mesh3d"
           }
          ],
          "parcoords": [
           {
            "line": {
             "colorbar": {
              "outlinewidth": 0,
              "ticks": ""
             }
            },
            "type": "parcoords"
           }
          ],
          "pie": [
           {
            "automargin": true,
            "type": "pie"
           }
          ],
          "scatter": [
           {
            "fillpattern": {
             "fillmode": "overlay",
             "size": 10,
             "solidity": 0.2
            },
            "type": "scatter"
           }
          ],
          "scatter3d": [
           {
            "line": {
             "colorbar": {
              "outlinewidth": 0,
              "ticks": ""
             }
            },
            "marker": {
             "colorbar": {
              "outlinewidth": 0,
              "ticks": ""
             }
            },
            "type": "scatter3d"
           }
          ],
          "scattercarpet": [
           {
            "marker": {
             "colorbar": {
              "outlinewidth": 0,
              "ticks": ""
             }
            },
            "type": "scattercarpet"
           }
          ],
          "scattergeo": [
           {
            "marker": {
             "colorbar": {
              "outlinewidth": 0,
              "ticks": ""
             }
            },
            "type": "scattergeo"
           }
          ],
          "scattergl": [
           {
            "marker": {
             "colorbar": {
              "outlinewidth": 0,
              "ticks": ""
             }
            },
            "type": "scattergl"
           }
          ],
          "scattermapbox": [
           {
            "marker": {
             "colorbar": {
              "outlinewidth": 0,
              "ticks": ""
             }
            },
            "type": "scattermapbox"
           }
          ],
          "scatterpolar": [
           {
            "marker": {
             "colorbar": {
              "outlinewidth": 0,
              "ticks": ""
             }
            },
            "type": "scatterpolar"
           }
          ],
          "scatterpolargl": [
           {
            "marker": {
             "colorbar": {
              "outlinewidth": 0,
              "ticks": ""
             }
            },
            "type": "scatterpolargl"
           }
          ],
          "scatterternary": [
           {
            "marker": {
             "colorbar": {
              "outlinewidth": 0,
              "ticks": ""
             }
            },
            "type": "scatterternary"
           }
          ],
          "surface": [
           {
            "colorbar": {
             "outlinewidth": 0,
             "ticks": ""
            },
            "colorscale": [
             [
              0,
              "#0d0887"
             ],
             [
              0.1111111111111111,
              "#46039f"
             ],
             [
              0.2222222222222222,
              "#7201a8"
             ],
             [
              0.3333333333333333,
              "#9c179e"
             ],
             [
              0.4444444444444444,
              "#bd3786"
             ],
             [
              0.5555555555555556,
              "#d8576b"
             ],
             [
              0.6666666666666666,
              "#ed7953"
             ],
             [
              0.7777777777777778,
              "#fb9f3a"
             ],
             [
              0.8888888888888888,
              "#fdca26"
             ],
             [
              1,
              "#f0f921"
             ]
            ],
            "type": "surface"
           }
          ],
          "table": [
           {
            "cells": {
             "fill": {
              "color": "#EBF0F8"
             },
             "line": {
              "color": "white"
             }
            },
            "header": {
             "fill": {
              "color": "#C8D4E3"
             },
             "line": {
              "color": "white"
             }
            },
            "type": "table"
           }
          ]
         },
         "layout": {
          "annotationdefaults": {
           "arrowcolor": "#2a3f5f",
           "arrowhead": 0,
           "arrowwidth": 1
          },
          "autotypenumbers": "strict",
          "coloraxis": {
           "colorbar": {
            "outlinewidth": 0,
            "ticks": ""
           }
          },
          "colorscale": {
           "diverging": [
            [
             0,
             "#8e0152"
            ],
            [
             0.1,
             "#c51b7d"
            ],
            [
             0.2,
             "#de77ae"
            ],
            [
             0.3,
             "#f1b6da"
            ],
            [
             0.4,
             "#fde0ef"
            ],
            [
             0.5,
             "#f7f7f7"
            ],
            [
             0.6,
             "#e6f5d0"
            ],
            [
             0.7,
             "#b8e186"
            ],
            [
             0.8,
             "#7fbc41"
            ],
            [
             0.9,
             "#4d9221"
            ],
            [
             1,
             "#276419"
            ]
           ],
           "sequential": [
            [
             0,
             "#0d0887"
            ],
            [
             0.1111111111111111,
             "#46039f"
            ],
            [
             0.2222222222222222,
             "#7201a8"
            ],
            [
             0.3333333333333333,
             "#9c179e"
            ],
            [
             0.4444444444444444,
             "#bd3786"
            ],
            [
             0.5555555555555556,
             "#d8576b"
            ],
            [
             0.6666666666666666,
             "#ed7953"
            ],
            [
             0.7777777777777778,
             "#fb9f3a"
            ],
            [
             0.8888888888888888,
             "#fdca26"
            ],
            [
             1,
             "#f0f921"
            ]
           ],
           "sequentialminus": [
            [
             0,
             "#0d0887"
            ],
            [
             0.1111111111111111,
             "#46039f"
            ],
            [
             0.2222222222222222,
             "#7201a8"
            ],
            [
             0.3333333333333333,
             "#9c179e"
            ],
            [
             0.4444444444444444,
             "#bd3786"
            ],
            [
             0.5555555555555556,
             "#d8576b"
            ],
            [
             0.6666666666666666,
             "#ed7953"
            ],
            [
             0.7777777777777778,
             "#fb9f3a"
            ],
            [
             0.8888888888888888,
             "#fdca26"
            ],
            [
             1,
             "#f0f921"
            ]
           ]
          },
          "colorway": [
           "#636efa",
           "#EF553B",
           "#00cc96",
           "#ab63fa",
           "#FFA15A",
           "#19d3f3",
           "#FF6692",
           "#B6E880",
           "#FF97FF",
           "#FECB52"
          ],
          "font": {
           "color": "#2a3f5f"
          },
          "geo": {
           "bgcolor": "white",
           "lakecolor": "white",
           "landcolor": "white",
           "showlakes": true,
           "showland": true,
           "subunitcolor": "#C8D4E3"
          },
          "hoverlabel": {
           "align": "left"
          },
          "hovermode": "closest",
          "mapbox": {
           "style": "light"
          },
          "paper_bgcolor": "white",
          "plot_bgcolor": "white",
          "polar": {
           "angularaxis": {
            "gridcolor": "#EBF0F8",
            "linecolor": "#EBF0F8",
            "ticks": ""
           },
           "bgcolor": "white",
           "radialaxis": {
            "gridcolor": "#EBF0F8",
            "linecolor": "#EBF0F8",
            "ticks": ""
           }
          },
          "scene": {
           "xaxis": {
            "backgroundcolor": "white",
            "gridcolor": "#DFE8F3",
            "gridwidth": 2,
            "linecolor": "#EBF0F8",
            "showbackground": true,
            "ticks": "",
            "zerolinecolor": "#EBF0F8"
           },
           "yaxis": {
            "backgroundcolor": "white",
            "gridcolor": "#DFE8F3",
            "gridwidth": 2,
            "linecolor": "#EBF0F8",
            "showbackground": true,
            "ticks": "",
            "zerolinecolor": "#EBF0F8"
           },
           "zaxis": {
            "backgroundcolor": "white",
            "gridcolor": "#DFE8F3",
            "gridwidth": 2,
            "linecolor": "#EBF0F8",
            "showbackground": true,
            "ticks": "",
            "zerolinecolor": "#EBF0F8"
           }
          },
          "shapedefaults": {
           "line": {
            "color": "#2a3f5f"
           }
          },
          "ternary": {
           "aaxis": {
            "gridcolor": "#DFE8F3",
            "linecolor": "#A2B1C6",
            "ticks": ""
           },
           "baxis": {
            "gridcolor": "#DFE8F3",
            "linecolor": "#A2B1C6",
            "ticks": ""
           },
           "bgcolor": "white",
           "caxis": {
            "gridcolor": "#DFE8F3",
            "linecolor": "#A2B1C6",
            "ticks": ""
           }
          },
          "title": {
           "x": 0.05
          },
          "xaxis": {
           "automargin": true,
           "gridcolor": "#EBF0F8",
           "linecolor": "#EBF0F8",
           "ticks": "",
           "title": {
            "standoff": 15
           },
           "zerolinecolor": "#EBF0F8",
           "zerolinewidth": 2
          },
          "yaxis": {
           "automargin": true,
           "gridcolor": "#EBF0F8",
           "linecolor": "#EBF0F8",
           "ticks": "",
           "title": {
            "standoff": 15
           },
           "zerolinecolor": "#EBF0F8",
           "zerolinewidth": 2
          }
         }
        },
        "title": {
         "font": {
          "color": "Black",
          "size": 22
         },
         "text": "<b>Hierarchical Clustering</b>",
         "x": 0.5,
         "xanchor": "center",
         "yanchor": "top"
        },
        "width": 1000,
        "xaxis": {
         "mirror": "allticks",
         "rangemode": "tozero",
         "showgrid": false,
         "showline": true,
         "showticklabels": true,
         "ticks": "outside",
         "type": "linear",
         "zeroline": false
        },
        "yaxis": {
         "mirror": "allticks",
         "range": [
          -340,
          0
         ],
         "rangemode": "tozero",
         "showgrid": false,
         "showline": true,
         "showticklabels": true,
         "tickmode": "array",
         "ticks": "outside",
         "ticktext": [
          "16_spc_severe_breaksdown",
          "0_tornado_storm_warning",
          "8_consumer_scammers_pinterest",
          "30_messiah louisfarrakhan_l...",
          "29_understand shirt_totally...",
          "19_youre driving_seek cover...",
          "15_death_agodgmt_agod",
          "5_ottnews rt_rt_ottnews",
          "21_911_inquest_missen",
          "27_oplbpo_library_canadian ...",
          "24_mental_mentalhealth_ment...",
          "18_flu_sites_clinic",
          "31_ocsb_tcdsb_oecta",
          "33_yowtheatre_drowning girl...",
          "12_automotive_honda_forsale",
          "20_outage_power_customers",
          "22_parking_parked_ottcity",
          "14_magee_magee house_house",
          "32_bridge_otttraffic_portag...",
          "26_students_montbleu_gatineau",
          "3_ottweather_pop_ottbike ot...",
          "23_routes_oc_oc transpo",
          "25_ottcityjobs_ottcity ottc...",
          "11_esax_smallbiz_ottcity",
          "28_ondaytimeottawaperformin...",
          "13_nakayla_baskin_nakayla b...",
          "7_police_ottnews_man",
          "9_crash_plane_crews",
          "6_latest_thanks_daily",
          "2_watson_jim_jim watson",
          "1_ottawa_ottcity_myottawa",
          "10_cannabis_legalization_pot",
          "4_ottvote_vote_ottnews",
          "17_makeyourmark_2018electio..."
         ],
         "tickvals": [
          -5,
          -15,
          -25,
          -35,
          -45,
          -55,
          -65,
          -75,
          -85,
          -95,
          -105,
          -115,
          -125,
          -135,
          -145,
          -155,
          -165,
          -175,
          -185,
          -195,
          -205,
          -215,
          -225,
          -235,
          -245,
          -255,
          -265,
          -275,
          -285,
          -295,
          -305,
          -315,
          -325,
          -335
         ],
         "type": "linear",
         "zeroline": false
        }
       }
      }
     },
     "metadata": {},
     "output_type": "display_data"
    }
   ],
   "source": [
    "topic_model.visualize_hierarchy()"
   ]
  },
  {
   "cell_type": "code",
   "execution_count": 14,
   "metadata": {},
   "outputs": [],
   "source": [
    "topic_model.merge_topics(TEXTS, topics_to_merge=[19,21])"
   ]
  },
  {
   "cell_type": "code",
   "execution_count": null,
   "metadata": {},
   "outputs": [],
   "source": [
    "topic_model.visualize_topics()"
   ]
  },
  {
   "cell_type": "code",
   "execution_count": null,
   "metadata": {},
   "outputs": [],
   "source": [
    "topic_model.get_topics()"
   ]
  }
 ],
 "metadata": {
  "kernelspec": {
   "display_name": "Python 3",
   "language": "python",
   "name": "python3"
  },
  "language_info": {
   "codemirror_mode": {
    "name": "ipython",
    "version": 3
   },
   "file_extension": ".py",
   "mimetype": "text/x-python",
   "name": "python",
   "nbconvert_exporter": "python",
   "pygments_lexer": "ipython3",
   "version": "3.9.13"
  },
  "orig_nbformat": 4
 },
 "nbformat": 4,
 "nbformat_minor": 2
}
